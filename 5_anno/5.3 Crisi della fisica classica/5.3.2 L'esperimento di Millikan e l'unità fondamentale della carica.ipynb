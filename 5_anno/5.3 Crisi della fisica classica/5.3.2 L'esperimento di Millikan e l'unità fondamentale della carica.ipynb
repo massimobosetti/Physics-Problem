{
 "cells": [
  {
   "cell_type": "markdown",
   "metadata": {
    "slideshow": {
     "slide_type": "slide"
    }
   },
   "source": [
    "# 5.3.2 L'epserimento di Millikan e l'unità fondamentale della carica\n",
    "## [Robert Andrews Millikan](https://en.wikipedia.org/wiki/Robert_Andrews_Millikan)\n",
    "\n",
    "<a title=\"Carl A. Gist / Public domain\" href=\"https://commons.wikimedia.org/wiki/File:Robert_A._Millikan_sketch_1931.png\"><img width=\"256\" alt=\"Robert A. Millikan sketch 1931\" src=\"https://upload.wikimedia.org/wikipedia/commons/thumb/7/76/Robert_A._Millikan_sketch_1931.png/256px-Robert_A._Millikan_sketch_1931.png\"></a>\n",
    "<a href=\"https://commons.wikimedia.org/wiki/File:Robert_A._Millikan_sketch_1931.png\" title=\"via Wikimedia Commons\">Carl A. Gist</a> / Public domain"
   ]
  },
  {
   "cell_type": "code",
   "execution_count": 15,
   "metadata": {
    "slideshow": {
     "slide_type": "skip"
    }
   },
   "outputs": [],
   "source": [
    "e = 1.602*10**-19 #carica dell'elettrone\n",
    "g = 9.81 #accelerazione di gravità"
   ]
  },
  {
   "cell_type": "markdown",
   "metadata": {
    "slideshow": {
     "slide_type": "slide"
    }
   },
   "source": [
    "## Prob 1\n",
    "Calcola:\n",
    "1. la forza risultante agente su una sfera di carica $q=-5e$ e massa $m=2\\cdot 10^{-14}\\, kg$ posta in una camera a vuoto e immersa in campo elettrico diretto verso l'alto di intensità $E=1,0 \\cdot10^5\\, N/C$.\n",
    "1. l'accelerazione della sfera nel caso in cui il campo elettrico venga invertito."
   ]
  },
  {
   "cell_type": "markdown",
   "metadata": {
    "slideshow": {
     "slide_type": "subslide"
    }
   },
   "source": [
    "### Soluzione 1.1\n",
    "\n",
    "Se poniamo la direzione positiva dell'asse $y$ verso l'alto la somma delle forze è data da: \n",
    "$$\n",
    "\\vec F_{TOT}=\\vec F_{el}+\\vec F_{g}= q\\cdot E-m\\cdot g\n",
    "$$"
   ]
  },
  {
   "cell_type": "code",
   "execution_count": 16,
   "metadata": {
    "slideshow": {
     "slide_type": "fragment"
    }
   },
   "outputs": [
    {
     "name": "stdout",
     "output_type": "stream",
     "text": [
      "la forza risultante è di -2.763E-13 N\n"
     ]
    }
   ],
   "source": [
    "q = -5*e\n",
    "m = 2*10**-14\n",
    "E =1*10**5\n",
    "Ftot = q*E-m*g\n",
    "print('la forza risultante è di', f\"{Ftot:.3E}\", 'N')\n"
   ]
  },
  {
   "cell_type": "markdown",
   "metadata": {
    "slideshow": {
     "slide_type": "subslide"
    }
   },
   "source": [
    "### Soluzione 1.2\n",
    "Ora per calcolare l'accelerazione basta dividere la forza risultante per la massa\n",
    "$$\n",
    "a = \\frac{F_{TOT}}{m}\n",
    "$$"
   ]
  },
  {
   "cell_type": "code",
   "execution_count": 17,
   "metadata": {
    "slideshow": {
     "slide_type": "fragment"
    }
   },
   "outputs": [
    {
     "name": "stdout",
     "output_type": "stream",
     "text": [
      "accelerazione è di -1.382E+01 m/s^2\n"
     ]
    }
   ],
   "source": [
    "a = Ftot/m\n",
    "print('accelerazione è di', f\"{a:.3E}\", 'm/s^2')"
   ]
  }
 ],
 "metadata": {
  "celltoolbar": "Slideshow",
  "kernelspec": {
   "display_name": "Python 3",
   "language": "python",
   "name": "python3"
  },
  "language_info": {
   "codemirror_mode": {
    "name": "ipython",
    "version": 3
   },
   "file_extension": ".py",
   "mimetype": "text/x-python",
   "name": "python",
   "nbconvert_exporter": "python",
   "pygments_lexer": "ipython3",
   "version": "3.7.6"
  }
 },
 "nbformat": 4,
 "nbformat_minor": 4
}
