{
 "cells": [
  {
   "cell_type": "code",
   "execution_count": 47,
   "metadata": {},
   "outputs": [],
   "source": [
    "import numpy as np\n",
    "import matplotlib\n",
    "import matplotlib.pyplot as plt"
   ]
  },
  {
   "cell_type": "code",
   "execution_count": 1,
   "metadata": {},
   "outputs": [],
   "source": [
    "k = 1.380649e-23 #costante di boltzmann\n",
    "h = 6.62607015e-34 #costante di plank\n",
    "b = 2.898*10**-3 #costante di Wien\n",
    "c = 299792458 #velocità luce nel vuoto\n",
    "s = 5.67*10**-8 #costante di stefan-boltzmann"
   ]
  },
  {
   "cell_type": "markdown",
   "metadata": {},
   "source": [
    "# La legge di Wien\n",
    "\n",
    "La legge dello spostamento di Wien è:\n",
    "$$\n",
    "\\lambda_{max}T=b; \\quad b\\,\\text{è una costante misurata empiricamente, detta costante di Wien}\\\\\n",
    "b=2,898\\cdot 10^{-3}\\, m\\cdot K\n",
    "$$\n",
    "\n",
    "\n",
    "# Legge di stefan-Boltzmann\n",
    "\n",
    "La potenza per unità di area totale irraggiata da un corpo  che si trova ad una data temperatura è:\n",
    "$$\n",
    "I_{tot}=\\sigma\\cdot T^4; \\quad \\sigma=5.67\\cdot10^{-8}\\, \\frac{W}{m^2K^4}\n",
    "$$\n",
    "* $I_{tot}$ è anche detta \n",
    "dove è detta *costente di Stefan-Boltzmann*."
   ]
  },
  {
   "cell_type": "markdown",
   "metadata": {},
   "source": [
    "## ex 1 \n",
    "Determinare la frequenza di emissione del corpo umano che si trova alla temperatura di $36,5\\,°C$.\n",
    "**soluzione**\n",
    "$$\n",
    "\\lambda_{max}T=b; \\quad b \\Rightarrow \\lambda_{max}=\\frac{b}{T}\n",
    "$$\n",
    "\n",
    "**Attenzione che la temperatura va inserita in kelvin! Quindi $T(K)=T(°C)+273,15$**\n",
    "\n",
    "Per ottenbere la frequenza ora basta ricordare che\n",
    "$$\n",
    "c=\\lambda\\cdot f\\Rightarrow f = \\frac{c}{\\lambda}\n",
    "$$\n",
    "Dove $c$ è la velocità della luce nel vuoto."
   ]
  },
  {
   "cell_type": "code",
   "execution_count": 49,
   "metadata": {},
   "outputs": [
    {
     "name": "stdout",
     "output_type": "stream",
     "text": [
      "la lunghezza d'onda del picco di emissione è 9.359E-06 m\n",
      "la frequenza del picco di emissione è 3.203E+13 Hz\n"
     ]
    }
   ],
   "source": [
    "# dati e svolgimeno ex.1\n",
    "\n",
    "T_C = 36.5\n",
    "T_K = T_C+273.15\n",
    "lambda_max = b/T_K\n",
    "f_max = c/lambda_max\n",
    "\n",
    "print(\"la lunghezza d'onda del picco di emissione è\", f\"{lambda_max:.3E}\",\"m\" )\n",
    "print(\"la frequenza del picco di emissione è\", f\"{f_max:.3E}\",\"Hz\" )"
   ]
  },
  {
   "cell_type": "markdown",
   "metadata": {},
   "source": [
    "## ex 2\n",
    "Il filamento di una lampada ad incandescenza si trova alla temperatura di $2500 K$. Ipotizzando\n",
    "che il filamento si comporti come un corpo nero, valutare radianza integrale M (potenza\n",
    "specifica) emessa per irraggiamento dal filamento nell’intero campo delle lunghezze d’onda.\n",
    "Calcolare la lunghezza d’onda in corrispondenza della quale la radiazione emessa dal filamento\n",
    "raggiunge il valore massimo. Calcolare inoltre l’emettenza Mnλ che si ha alla λmax per le\n",
    "temperature di 2500 K e 3000 K. "
   ]
  }
 ],
 "metadata": {
  "kernelspec": {
   "display_name": "Python 3",
   "language": "python",
   "name": "python3"
  },
  "language_info": {
   "codemirror_mode": {
    "name": "ipython",
    "version": 3
   },
   "file_extension": ".py",
   "mimetype": "text/x-python",
   "name": "python",
   "nbconvert_exporter": "python",
   "pygments_lexer": "ipython3",
   "version": "3.7.7"
  }
 },
 "nbformat": 4,
 "nbformat_minor": 4
}
