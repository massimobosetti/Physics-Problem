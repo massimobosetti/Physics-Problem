{
 "cells": [
  {
   "cell_type": "markdown",
   "metadata": {},
   "source": [
    "# Contents\n",
    "\n",
    "- [Introduzione: legge di Wien e Stefan-Boltzmann](#intro)\n",
    "- [Ex1](#ex1)\n",
    "- [Ex2](#ex2)\n",
    "- [Ex3: le lampade alogene](#ex3)\n",
    "- [Ex4: radiazione cosmica di fondo](#ex4)\n",
    "- [Ex5](#ex5)\n",
    "    - [Ex5.1: Il nostro corpo](#ex5.1)\n",
    "    - [Ex5.2: la pelle](#ex5.2)\n",
    "    - [Ex5.3: con i pantaloni](#ex5.3)\n",
    " "
   ]
  },
  {
   "cell_type": "code",
   "execution_count": 5,
   "metadata": {},
   "outputs": [],
   "source": [
    "import numpy as np\n",
    "import matplotlib\n",
    "import matplotlib.pyplot as plt"
   ]
  },
  {
   "cell_type": "code",
   "execution_count": 19,
   "metadata": {},
   "outputs": [],
   "source": [
    "k = 1.380649e-23 #costante di boltzmann\n",
    "h = 6.62607015e-34 #costante di plank\n",
    "b = 2.8977658*10**-3 #costante di Wien\n",
    "c = 299792458 #velocità luce nel vuoto\n",
    "s = 5.67*10**-8 #costante di stefan-boltzmann"
   ]
  },
  {
   "cell_type": "markdown",
   "metadata": {},
   "source": [
    "# Introduzione <a id=\"intro\"></a>\n",
    "\n",
    "## La legge di Wien\n",
    "\n",
    "La legge dello spostamento di Wien è:\n",
    "$$\n",
    "\\lambda_{max}T=b; \\quad b\\,\\text{è una costante misurata empiricamente, detta costante di Wien}\\\\\n",
    "b=2,898\\cdot 10^{-3}\\, m\\cdot K\n",
    "$$\n",
    "\n",
    "\n",
    "## Legge di stefan-Boltzmann\n",
    "\n",
    "La potenza per unità di area totale irraggiata da un corpo  che si trova ad una data temperatura è:\n",
    "$$\n",
    "I=\\sigma\\cdot T^4; \\quad \\sigma=5.67\\cdot10^{-8}\\, \\frac{W}{m^2K^4}\n",
    "$$\n",
    "\n",
    "$I$ è anche detta **radianza integrale** e $\\sigma$ è chiamata *costante di Stefan-Boltzmann*."
   ]
  },
  {
   "cell_type": "markdown",
   "metadata": {},
   "source": [
    "## Ex 1 <a id=\"ex1\"></a>\n",
    "Determinare la frequenza di emissione del corpo umano che si trova alla temperatura di $36,5\\,°C$.\n",
    "**soluzione**\n",
    "$$\n",
    "\\lambda_{max}T=b; \\quad \\Rightarrow \\lambda_{max}=\\frac{b}{T}\n",
    "$$\n",
    "\n",
    "**Attenzione che la temperatura va inserita in kelvin! Quindi $T(K)=T(°C)+273,15$**\n",
    "\n",
    "Per ottenbere la frequenza ora basta ricordare che\n",
    "$$\n",
    "c=\\lambda_{max}\\cdot f_{max}\\Rightarrow f_{max} = \\frac{c}{\\lambda_{max}} =  \\frac{c\\cdot T}{b}\n",
    "$$\n",
    "Dove $c$ è la velocità della luce nel vuoto."
   ]
  },
  {
   "cell_type": "code",
   "execution_count": 20,
   "metadata": {},
   "outputs": [
    {
     "name": "stdout",
     "output_type": "stream",
     "text": [
      "la lunghezza d'onda del picco di emissione è 9.358E-06 m\n",
      "la frequenza del picco di emissione è 3.204E+13 Hz\n"
     ]
    }
   ],
   "source": [
    "# dati e svolgimeno ex.1\n",
    "\n",
    "T_C = 36.5\n",
    "T_K = T_C+273.15\n",
    "lambda_max = b/T_K\n",
    "f_max = c*T_K/b\n",
    "\n",
    "print(\"la lunghezza d'onda del picco di emissione è\", f\"{lambda_max:.3E}\",\"m\" )\n",
    "print(\"la frequenza del picco di emissione è\", f\"{f_max:.3E}\",\"Hz\" )"
   ]
  },
  {
   "cell_type": "markdown",
   "metadata": {},
   "source": [
    "## Ex 2 <a id=\"ex2\"></a>\n",
    "Il filamento di una lampada ad incandescenza si trova alla temperatura di $2500 K$. Ipotizzando\n",
    "che il filamento si comporti come un corpo nero, calcolare:\n",
    "1. la radianza integrale $I$ emessa per irraggiamento dal filamento nell’intero campo delle lunghezze d’onda.\n",
    "2. Calcolare la lunghezza d’onda in corrispondenza della quale la radiazione emessa dal filamento\n",
    "raggiunge il valore massimo.\n",
    "\n",
    "### soluzione\n",
    "\n",
    "1. $I=\\sigma\\cdot T^4$ e basta sotituire la temperatura e la costante ed ottenere il valore cercato.\n",
    "2. Basta applicare la formula di Wien $\\lambda_{max}=\\frac{b}{T}$"
   ]
  },
  {
   "cell_type": "code",
   "execution_count": 21,
   "metadata": {},
   "outputs": [
    {
     "name": "stdout",
     "output_type": "stream",
     "text": [
      "la radianza integrale è 2.215E+06 W/m^2\n",
      "la lunghezza d'onda del picco di emissione è 1.159E-06 m\n"
     ]
    }
   ],
   "source": [
    "#Dati\n",
    "T = 2500\n",
    "#soluzione\n",
    "I = s*T**4\n",
    "lambda_max = b/T\n",
    "print(\"la radianza integrale è\", f\"{I:.3E}\",\"W/m^2\" )\n",
    "print(\"la lunghezza d'onda del picco di emissione è\", f\"{lambda_max:.3E}\",\"m\" )\n"
   ]
  },
  {
   "cell_type": "markdown",
   "metadata": {},
   "source": [
    "## Ex 3: Le lampade alogene <a id=\"ex3\"></a>\n",
    "\n",
    "Le moderne lampadine alogene hanno filamenti che possono funzioanre a temperature più elevate di quelle a incandescenza con normali filamenti. A titolo di paragone u, il filamento di tungsteno di una normale lampadina funziona a circa $2900\\,K$, mentre quello di una lampadina alogena a $3400\\,K$.\n",
    "1. Quale lampadina possiede la frequenza di picco più alta?\n",
    "2. Calcola il rapporto $\\frac{f_{al}}{f_{inc}}$ fra le frequenze di picco.\n",
    "3. La sensibilità del'occhio umano è massima per frequenze dell'ornie di $5,5\\cdot 10^4\\,Hz$ Quale lampadina si avvicina di più  a tale valore?\n",
    "\n",
    "### soluzione\n",
    "\n",
    "1.  Dalla lege si Stefan otteniamo\n",
    "$$\n",
    "f_{al} = \\frac{c T_{al}}{b}\\\\\n",
    "f_{inc} = \\frac{c T_{inc}}{b}\n",
    "\\Rightarrow T_{al}>T_{inc} \\Rightarrow  f_{al}>f_{inc} \n",
    "$$\n",
    "\n",
    "2. Il rapporto è dato da\n",
    "$$\n",
    " \\frac{f_{al}}{f_{inc}}=  \\frac{T_{al}}{T_{inc}}\n",
    "$$\n",
    "\n",
    "3. Ricavviamo i valori di frequenza da\n",
    "$$\n",
    "f_{al} = \\frac{c T_{al}}{b}\\\\\n",
    "f_{inc} = \\frac{c T_{inc}}{b}\n",
    "$$"
   ]
  },
  {
   "cell_type": "code",
   "execution_count": 42,
   "metadata": {},
   "outputs": [
    {
     "name": "stdout",
     "output_type": "stream",
     "text": [
      "il rapporto delle frequenze di picco è 1.172\n",
      "la frequenza del picco di emissione per la lampada alogena è 3.518E+14 Hz\n",
      "la frequenza del picco di emissione per la lampada a incandescenza è 3.000E+14 Hz\n"
     ]
    }
   ],
   "source": [
    "#dati\n",
    "T_al = 3400\n",
    "T_inc = 2900\n",
    "\n",
    "rapp_f = T_al/T_inc\n",
    "print(\"il rapporto delle frequenze di picco è\", f\"{rapp_f:.3f}\")\n",
    "\n",
    "f_al = c*T_al/b\n",
    "f_inc = c*T_inc/b\n",
    "print(\"la frequenza del picco di emissione per la lampada alogena è\", f\"{f_al:.3E}\",\"Hz\" )\n",
    "print(\"la frequenza del picco di emissione per la lampada a incandescenza è\", f\"{f_inc:.3E}\",\"Hz\" )\n",
    "\n"
   ]
  },
  {
   "cell_type": "markdown",
   "metadata": {},
   "source": [
    "## Ex 4: La radiazione cosmica di fondo <a id=\"ex4\"></a>\n",
    "\n",
    "Lo spazio cosmico è popolato da un mare di fotoni la cui origine risale ai primi istanti dell'universo.La distribuzione di frequenza di questa *radiazione cosmica di fondo* corrisponde a quella di un corpo nero alla temperatura di $2,728\\,K$.\n",
    "1. Qual è la frequenza di picco tale radiazione?\n",
    "2. Qual è la lunghezza d'onda?\n",
    "\n",
    "### Soluzione\n",
    "Anche qui è un'applicazione banale dealla legge di Wien:\n",
    "$$\n",
    "\\lambda_{max}=\\frac{b}{T}\n",
    "$$\n",
    "Per ottenbere la frequenza ora basta ricordare che\n",
    "$$\n",
    "f_{max} = \\frac{c T}{b}\n",
    "$$\n",
    "Dove $c$ è la velocità della luce nel vuoto.\n"
   ]
  },
  {
   "cell_type": "code",
   "execution_count": 23,
   "metadata": {},
   "outputs": [
    {
     "name": "stdout",
     "output_type": "stream",
     "text": [
      "la lunghezza d'onda del picco di emissione è 1.062E-03 m\n",
      "la frequenza del picco di emissione è 2.822E+11 Hz\n"
     ]
    }
   ],
   "source": [
    "T_CMB = 2.728\n",
    "\n",
    "lambda_max_CMB = b/T_CMB\n",
    "f_max_CMB = c*T_CMB/b\n",
    "\n",
    "print(\"la lunghezza d'onda del picco di emissione è\", f\"{lambda_max_CMB:.3E}\",\"m\" )\n",
    "print(\"la frequenza del picco di emissione è\", f\"{f_max_CMB:.3E}\",\"Hz\" )\n"
   ]
  },
  {
   "cell_type": "markdown",
   "metadata": {},
   "source": [
    "## Ex 5<a id=\"ex5\"></a>\n",
    "\n",
    "\n",
    "### 1) il nostro corpo <a id=\"ex5.1\"></a>\n",
    "\n",
    "Consideriamo una persona con una teperatura corporea di $37\\,°C$ collocata in una stanza a tenperatura di $20\\,°C$.\n",
    "1. Quanto sarà l’energia totale (netta) emessa dalla persona in un giorno (assumendo che la sua superficie corporea sia di $1.5\\,m^2$).\n",
    "2. A quale potenza corrisponde?\n",
    "\n",
    "#### Soluzione 5.1\n",
    "1. La legge di Stefan ci dice che l'energia per unità di superfice e di tempo è $I=\\sigma \\cdot T^4$ Il bilancio è dato da **flusso emesso - flusso assorbito**\n",
    "\n",
    "$$\n",
    "\\Delta I = I_{corpo}-I_{ext}=\\sigma(T_c^4-T_s^4)\n",
    "$$ \n",
    "\n",
    "La potenza emessa netta per tutta la superficie è data da\n",
    "\n",
    "$$\n",
    "\\Delta P = \\Delta I \\cdot \\text{supeficie del corpo} = \\sigma(T_c^4-T_s^4) \\cdot \\text{supeficie del corpo}\n",
    "$$\n",
    "\n",
    "Infine\n",
    "$$\n",
    "\\Delta  E = \\Delta P\\cdot  \\text{tempo} = \\sigma(T_c^4-T_s^4) \\cdot \\text{supeficie del corpo}\\cdot \\text{tempo} \n",
    "$$"
   ]
  },
  {
   "cell_type": "code",
   "execution_count": 30,
   "metadata": {},
   "outputs": [
    {
     "name": "stdout",
     "output_type": "stream",
     "text": [
      "l'energia emessa è di 1.373E+07 J\n",
      "la otenza emessa è di 1.589E+02 W\n"
     ]
    }
   ],
   "source": [
    "#soluzione 5.1\n",
    "T_c = 37+ 273.15 #atttenti alle temperature in kelvin\n",
    "T_e = 20 + 273.15\n",
    "S = 1.5 #superficie corporea\n",
    "t = 24*3600 #tempo in secondi\n",
    "\n",
    "D_E =s*(T_c**4-T_e**4)*S*t\n",
    "print(\"l'energia emessa è di\", f\"{D_E:.3E}\",\"J\" )\n",
    "\n",
    "P = s*(T_c**4-T_e**4)*S\n",
    "print(\"la potenza emessa è di\", f\"{P:.3E}\",\"W\" )"
   ]
  },
  {
   "cell_type": "markdown",
   "metadata": {},
   "source": [
    "### 2) la pella <a id=\"ex5.2\"></a>\n",
    "\n",
    "La temperatura della pelle è più bassa di quella del corpo. Ripetere il\n",
    "calcolo assumendo come temperatura della pelle $T_p \\approx 33\\, °C$\n",
    "\n"
   ]
  },
  {
   "cell_type": "code",
   "execution_count": 37,
   "metadata": {},
   "outputs": [
    {
     "name": "stdout",
     "output_type": "stream",
     "text": [
      "l'energia emessa è di 1.029E+07 J\n",
      "la potenza emessa è di 1.190E+02 W\n"
     ]
    }
   ],
   "source": [
    "#soluzione 5.2\n",
    "T_p = 33+ 273.15 #atttenti alle temperature in kelvin\n",
    "T_e = 20 + 273.15\n",
    "S = 1.5 #superficie corporea\n",
    "t = 24*3600 #tempo in secondi\n",
    "\n",
    "D_E =s*(T_p**4-T_e**4)*S*t\n",
    "print(\"l'energia emessa è di\", f\"{D_E:.3E}\",\"J\" )\n",
    "P = s*(T_p**4-T_e**4)*S\n",
    "print(\"la potenza emessa è di\", f\"{P:.3E}\",\"W\" )"
   ]
  },
  {
   "cell_type": "markdown",
   "metadata": {},
   "source": [
    "### 3) con i pantaloni <a id=\"ex5.3\"></a>\n",
    "\n",
    "Gli abiti aiutano. La temperatura esterna dei vestiti è di solito più\n",
    "bassa di $30\\,°C$, assumendola $T_A ≈ 28\\,°C$, ripetere il calcolo della\n",
    "potenza emessa dalla persona."
   ]
  },
  {
   "cell_type": "code",
   "execution_count": 39,
   "metadata": {},
   "outputs": [
    {
     "name": "stdout",
     "output_type": "stream",
     "text": [
      "l'energia emessa è di 6.171E+06 J\n",
      "la potenza emessa è di 7.142E+01 W\n"
     ]
    }
   ],
   "source": [
    "#soluzione 5.3\n",
    "T_a = 28 + 273.15 #atttenti alle temperature in kelvin\n",
    "T_e = 20 + 273.15\n",
    "S = 1.5 #superficie corporea\n",
    "t = 24*3600 #tempo in secondi\n",
    "\n",
    "D_E =s*(T_a**4-T_e**4)*S*t\n",
    "print(\"l'energia emessa è di\", f\"{D_E:.3E}\",\"J\" )\n",
    "P = s*(T_a**4-T_e**4)*S\n",
    "print(\"la potenza emessa è di\", f\"{P:.3E}\",\"W\" )"
   ]
  },
  {
   "cell_type": "markdown",
   "metadata": {},
   "source": [
    "\n",
    "\n"
   ]
  }
 ],
 "metadata": {
  "kernelspec": {
   "display_name": "Python 3",
   "language": "python",
   "name": "python3"
  },
  "language_info": {
   "codemirror_mode": {
    "name": "ipython",
    "version": 3
   },
   "file_extension": ".py",
   "mimetype": "text/x-python",
   "name": "python",
   "nbconvert_exporter": "python",
   "pygments_lexer": "ipython3",
   "version": "3.7.7"
  }
 },
 "nbformat": 4,
 "nbformat_minor": 4
}
