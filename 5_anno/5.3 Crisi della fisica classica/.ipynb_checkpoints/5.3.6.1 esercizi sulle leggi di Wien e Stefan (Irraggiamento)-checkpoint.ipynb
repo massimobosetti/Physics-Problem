{
 "cells": [
  {
   "cell_type": "code",
   "execution_count": 47,
   "metadata": {},
   "outputs": [],
   "source": [
    "import numpy as np\n",
    "import matplotlib\n",
    "import matplotlib.pyplot as plt"
   ]
  },
  {
   "cell_type": "code",
   "execution_count": 48,
   "metadata": {},
   "outputs": [],
   "source": [
    "k = 1.380649e-23 #costante di boltzmann\n",
    "h = 6.62607015e-34 #costante di plank\n",
    "b = 2.898*10**-3 #costante di Wien\n",
    "c = 299792458 #velocità luce nel vuoto"
   ]
  },
  {
   "cell_type": "markdown",
   "metadata": {},
   "source": [
    "# La legge di Wien e alcune applicazioni\n",
    "\n",
    "La legge dello spostamento di Wien è:\n",
    "$$\n",
    "\\lambda_{max}T=b; \\quad b\\,\\text{è una costante misurata empiricamente, detta costante di Wien}\\\\\n",
    "b=2,898\\cdot 10^{-3}\\, m\\cdot K\n",
    "$$\n"
   ]
  },
  {
   "cell_type": "markdown",
   "metadata": {},
   "source": [
    "## ex 1 \n",
    "Determinare la frequenza di emissione del corpo umano che si trova alla temperatura di $36,5\\,°C$.\n",
    "**soluzione**\n",
    "$$\n",
    "\\lambda_{max}T=b; \\quad b \\Rightarrow \\lambda_{max}=\\frac{b}{T}\n",
    "$$\n",
    "**Attenzione che la temperatura va inserita in kelvin! Quindi $T(K)=T(°C)+273,15$**\n",
    "Per ottenbere la frequenza ora basta ricordare che\n",
    "$$\n",
    "c=\\lambda\\cdot f\\Rightarrow f = \\frac{c}{\\lambda}\n",
    "$$\n",
    "Dove $c$ è la velocità della luce nel vuoto."
   ]
  },
  {
   "cell_type": "code",
   "execution_count": 49,
   "metadata": {},
   "outputs": [
    {
     "name": "stdout",
     "output_type": "stream",
     "text": [
      "la lunghezza d'onda del picco di emissione è 9.359E-06 m\n",
      "la frequenza del picco di emissione è 3.203E+13 Hz\n"
     ]
    }
   ],
   "source": [
    "# dati e svolgimeno ex.1\n",
    "\n",
    "T_C = 36.5\n",
    "T_K = T_C+273.15\n",
    "lambda_max = b/T_K\n",
    "f_max = c/lambda_max\n",
    "\n",
    "print(\"la lunghezza d'onda del picco di emissione è\", f\"{lambda_max:.3E}\",\"m\" )\n",
    "print(\"la frequenza del picco di emissione è\", f\"{f_max:.3E}\",\"Hz\" )"
   ]
  },
  {
   "cell_type": "code",
   "execution_count": null,
   "metadata": {},
   "outputs": [],
   "source": []
  }
 ],
 "metadata": {
  "kernelspec": {
   "display_name": "Python 3",
   "language": "python",
   "name": "python3"
  },
  "language_info": {
   "codemirror_mode": {
    "name": "ipython",
    "version": 3
   },
   "file_extension": ".py",
   "mimetype": "text/x-python",
   "name": "python",
   "nbconvert_exporter": "python",
   "pygments_lexer": "ipython3",
   "version": "3.7.7"
  }
 },
 "nbformat": 4,
 "nbformat_minor": 4
}
