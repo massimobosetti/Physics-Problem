{
 "cells": [
  {
   "cell_type": "markdown",
   "metadata": {
    "slideshow": {
     "slide_type": "slide"
    }
   },
   "source": [
    "# Scattering Rutherford\n",
    "|  <a title=\"Qwerty123uiop / CC BY-SA (https://creativecommons.org/licenses/by-sa/4.0)\" href=\"https://commons.wikimedia.org/wiki/File:AlphaTrackRutherfordScattering3.jpg\"><img width=\"512\" alt=\"AlphaTrackRutherfordScattering3\" src=\"https://upload.wikimedia.org/wikipedia/commons/thumb/7/7d/AlphaTrackRutherfordScattering3.jpg/512px-AlphaTrackRutherfordScattering3.jpg\"></a>| \n",
    "|------|\n",
    "|  *Figure 1*. In a [cloud chamber](https://en.wikipedia.org/wiki/Cloud_chamber), a 5.3 MeV alpha particle track from a [lead-210](https://en.wikipedia.org/wiki/Lead-210) pin source near point 1 undergoes Rutherford scattering near point 2, deflecting by an angle of about 30°. It scatters once again near point 3, and finally comes to rest in the gas. The target nucleus in the chamber gas could have been a nitrogen, oxygen, carbon, or hydrogen nucleus. It received enough [kinetic energy](https://en.wikipedia.org/wiki/Kinetic_energy) in the [elastic collision](https://en.wikipedia.org/wiki/Elastic_collision) to cause a short visible recoiling track near point 2. (The scale is in centimeters.)   | \n",
    "\n",
    "\n",
    "\n",
    "\n"
   ]
  },
  {
   "cell_type": "code",
   "execution_count": 1,
   "metadata": {
    "slideshow": {
     "slide_type": "skip"
    }
   },
   "outputs": [],
   "source": [
    "#libreirie utili\n",
    "import numpy as np\n",
    "import pandas as pd\n",
    "import matplotlib.pyplot as plt\n",
    "%matplotlib inline\n",
    "from IPython.display import IFrame\n",
    "\n",
    "e = 1.602*10**-19 #carica dell'elettrone\n",
    "eps0 = 8.854187*10**-12 #costante dielettrica del vuoto\n",
    "eV = 1.602*10**-19 #joule per un eV\n",
    "u = 1.66*10**-27 #u.m.a\n",
    "me = 9.109*10**-31 #massa dell'elettrone\n",
    "ma = 6.665*10**-27 #massa particelle alfa\n",
    "mAu = 196.9665*u #massa nucleo d'oro"
   ]
  },
  {
   "cell_type": "code",
   "execution_count": 2,
   "metadata": {
    "slideshow": {
     "slide_type": "slide"
    }
   },
   "outputs": [
    {
     "data": {
      "text/html": [
       "\n",
       "        <iframe\n",
       "            width=\"700\"\n",
       "            height=\"600\"\n",
       "            src=\"https://phet.colorado.edu/sims/html/rutherford-scattering/latest/rutherford-scattering_en.html\"\n",
       "            frameborder=\"0\"\n",
       "            allowfullscreen\n",
       "        ></iframe>\n",
       "        "
      ],
      "text/plain": [
       "<IPython.lib.display.IFrame at 0x7f9e202b22d0>"
      ]
     },
     "execution_count": 2,
     "metadata": {},
     "output_type": "execute_result"
    }
   ],
   "source": [
    "IFrame(src='https://phet.colorado.edu/sims/html/rutherford-scattering/latest/rutherford-scattering_en.html', width=700, height=600)"
   ]
  },
  {
   "cell_type": "markdown",
   "metadata": {
    "slideshow": {
     "slide_type": "slide"
    }
   },
   "source": [
    "## Prob 1\n",
    "### Scattering Rutherford - Distanza minima dal nucleo\n",
    "\n",
    "Nell'esperimento di diffusione di Rutherford furono lanciate delle particelle alfa (carica $+2e$) contro una lamina d'oro. Condidera una particella alfa diretta contro il nucleo di un atomo d'oro (carica $+79e$), con un'energia cinetica $K_\\alpha$. Calcola la distanza minima del nucleo alla quale può arrivare una particella alfa nel caso in cui $K_\\alpha=3,0\\,MeV$. \n"
   ]
  },
  {
   "cell_type": "markdown",
   "metadata": {
    "slideshow": {
     "slide_type": "slide"
    }
   },
   "source": [
    "### Soluzione\n",
    "<img src=\"https://docs.google.com/drawings/d/e/2PACX-1vTrGyv2j46PD2-XTpMfTo5bmTkiE3zn7pnsPA7uu7zkwhgaBGNy_d502G8XxoeipJ--6Gv69KyvAkHY/pub?w=480&h=360\">\n",
    "\n"
   ]
  },
  {
   "cell_type": "markdown",
   "metadata": {
    "slideshow": {
     "slide_type": "slide"
    }
   },
   "source": [
    "Essendo l'urto elastico abbiamo la conservazione dell'energia cinetica della particella, inoltre l'unica forza agente è la repulsione Coulmbiana e quindi una forza conservativa. Abbiamo quindi la conservazione dell'energia totale nelle 3 fasi.\n",
    "\n",
    "Nella fase 1) la particella non risente ancora del potenziale dovuto al nucleo dell'atomo d'oro, quindi $$E_{tot}^{(1)}=K_\\alpha$$\n",
    "\n",
    "\n",
    "\n",
    "\n"
   ]
  },
  {
   "cell_type": "markdown",
   "metadata": {
    "slideshow": {
     "slide_type": "fragment"
    }
   },
   "source": [
    "Quando la partcella si avvicina rallenta e quindi l'energia cinetica viene trasformata in energia potenziale finché si ferma e quindi nel punto (2) la particella ha energia cinetica nulla, e solo energia potenziale\n",
    "$$E_{tot}^{(2)}=U_{el}(r_{min})$$\n",
    "Dove $r_{min}$ è la distanza minima tra il nucleo e la particella.\n"
   ]
  },
  {
   "cell_type": "markdown",
   "metadata": {
    "slideshow": {
     "slide_type": "fragment"
    }
   },
   "source": [
    "Ora l'energia si conserva quindi dobbiamo avere che:\n",
    "$$\n",
    "\\begin{matrix}\n",
    " E_{tot}^{(1)} &=& E_{tot}^{(2)}\\\\ \n",
    "  K_\\alpha& =& U_{el}(r_{min})\\\\ \n",
    " \\end{matrix}\n",
    "$$"
   ]
  },
  {
   "cell_type": "markdown",
   "metadata": {
    "slideshow": {
     "slide_type": "fragment"
    }
   },
   "source": [
    "Sostituendo $U_{el}(r)=\\frac{1}{4\\pi \\varepsilon_0}\\frac{q_1q_2}{r}$\n",
    "Otteniamo:\n",
    "\n",
    "$$\n",
    "K_\\alpha =\\frac{1}{4\\pi \\varepsilon_0}\\frac{q_1q_2}{D} \\Rightarrow D=\\frac{1}{4\\pi \\varepsilon_0}\\frac{q_1q_2}{K_\\alpha} \n",
    "$$"
   ]
  },
  {
   "cell_type": "code",
   "execution_count": 3,
   "metadata": {
    "slideshow": {
     "slide_type": "slide"
    }
   },
   "outputs": [
    {
     "name": "stdout",
     "output_type": "stream",
     "text": [
      "energia cinetica della particella è di 4.806E-13 J\n",
      "la distanza minima è di 7.583E-14 m\n"
     ]
    }
   ],
   "source": [
    "#Dati\n",
    "q1=2*e\n",
    "q2=79*e\n",
    "Ka=(3*10**6)*eV\n",
    "#Dobbiamo trasformare tutte le unità nel in unità del S.I.\n",
    "print('energia cinetica della particella è di', f\"{Ka:.3E}\",'J')\n",
    "\n",
    "D = (1/(4*np.pi*eps0))*((q1*q2)/Ka)\n",
    "print('la distanza minima è di',f\"{D:.3E}\", 'm')"
   ]
  },
  {
   "cell_type": "markdown",
   "metadata": {
    "slideshow": {
     "slide_type": "slide"
    }
   },
   "source": [
    "# Prob 2\n",
    "\n",
    "## Particella alfa e nucleo d'oro\n",
    "\n",
    "<img src=\"https://docs.google.com/drawings/d/e/2PACX-1vQ6uQ-yWlNT81_xVPDxDJtVC63jUv9uVkE9QLBNxJW8SJG5ppLF1RjUKABu7gfbqo0Yj-Jt1S3_oaGS/pub?w=612&amp;h=232\">\n",
    "\n",
    " Un aprticella $\\alpha$ (nucleo di Elio) di carica $2e$ si avvicina a una velocità $\\vec v_{(\\alpha,i)}$ ad un nuclo di Oro $^{197}Au$. La particella $\\alpha$ viene deflessa di un angolo $\\theta$. Ricava modulo, direzione e verso della velocità con la quale il nucleo d'Oro rincula.\n"
   ]
  },
  {
   "cell_type": "markdown",
   "metadata": {
    "slideshow": {
     "slide_type": "slide"
    }
   },
   "source": [
    "## Soluzione\n",
    "Siano $m_\\alpha$ e $m_{Au}$ ripsettivamente le masse della particella $\\alpha$ e del nucleo d'oro.\n",
    "Mel sistema che abbiamo selto possiamo scrivere le veloicità in componenti rispetto al sistema di rifermento $(x,y)$.\n",
    "\n",
    "- La velocità iniziale della particella\n",
    "$$\n",
    "\\vec v_{\\alpha,i}=(v_{(\\alpha,i)_x},0)\n",
    "$$\n",
    "- La velocità finale della particella\n",
    "$$\n",
    "\\vec v_{\\alpha,f}=(v_{(\\alpha,f)_x},v_{(\\alpha,f)_y})=(v_{(\\alpha,f)} \\cos\\theta,v_{(\\alpha,f)}  \\sin\\theta)\n",
    "$$\n",
    "- La velocità finale del nucleo d'oro\n",
    "$$\n",
    "\\vec v_{Au}=(v_{Au_x},v_{Au_y})\n",
    "$$\n",
    "\n",
    "\n"
   ]
  },
  {
   "cell_type": "markdown",
   "metadata": {
    "slideshow": {
     "slide_type": "subslide"
    }
   },
   "source": [
    "La prima considerazione da fare è che l'urto è un **urto elastico**, quindi abbiamo la consetvazione della quantità di moto e dell'energia cinetica del sistema:\n",
    "$$\n",
    "\\left\\{\\begin{matrix}\n",
    "\\vec P_i = \\vec P_f\\\\ \n",
    "K_i=K_f\n",
    "\\end{matrix}\\right.\n",
    "$$\n",
    "\n",
    "\n"
   ]
  },
  {
   "cell_type": "markdown",
   "metadata": {
    "slideshow": {
     "slide_type": "fragment"
    }
   },
   "source": [
    "Che nel sistema di riferimento diventano:\n",
    "$$\n",
    "\\left\\{\\begin{matrix}\n",
    " m_\\alpha \\vec v_{\\alpha,i}= m_\\alpha \\vec v_{\\alpha,f}+m_{Au}\\vec v_{Au}\\\\ \n",
    "\\frac{1}{2}m_\\alpha \\vec v_{\\alpha,i}^2=\\frac{1}{2}m_\\alpha \\vec v_{\\alpha,f}^2+\\frac{1}{2}m_{Au}\\vec v_{Au}^2\n",
    "\\end{matrix}\\right.\n",
    "$$"
   ]
  },
  {
   "cell_type": "markdown",
   "metadata": {
    "slideshow": {
     "slide_type": "fragment"
    }
   },
   "source": [
    "La prima equazione è un'equazione vettoriale che si scompone in due equazioni per le componenti della quantità di moto, cioè:\n",
    "\n",
    "$$\n",
    "\\vec P_i = \\vec P_f \\Rightarrow \\left\\{\\begin{matrix}\n",
    "P_{i,x} = P_{f,x}\\\\ \n",
    "P_{i,y} = P_{f,y}\n",
    "\\end{matrix}\\right. \\Rightarrow \n",
    "\\left\\{\\begin{matrix}\n",
    "m_\\alpha v_{(\\alpha,i)_x} = m_\\alpha v_{(\\alpha,f)_x}+m_{Au} v_{(Au)_x}\\\\ \n",
    "m_\\alpha v_{(\\alpha,i)_y} = m_\\alpha v_{(\\alpha,f)_y}+m_{Au} v_{(Au)_y}\n",
    "\\end{matrix}\\right.\n",
    "$$"
   ]
  },
  {
   "cell_type": "markdown",
   "metadata": {
    "slideshow": {
     "slide_type": "subslide"
    }
   },
   "source": [
    "Tenendo conto di come è stato sistemato il setup dell'esperimento, ovvero delle componenti delle velocità, otteniamo:\n",
    "\n",
    "$$\n",
    "\\left\\{\\begin{matrix}\n",
    "m_\\alpha v_{(\\alpha,i)_x} = m_\\alpha v_{(\\alpha,f)_x}+m_{Au} v_{(Au)_x}\\\\ \n",
    "0 = m_\\alpha v_{(\\alpha,f)_y}+m_{Au} v_{(Au)_y}\n",
    "\\end{matrix}\\right.\n",
    "\\Rightarrow\n",
    "\\left\\{\\begin{matrix}\n",
    "m_\\alpha v_{(\\alpha,i)_x} = m_\\alpha v_{(\\alpha,f)_x}+m_{Au} v_{(Au)_x}\\\\ \n",
    "m_\\alpha v_{(\\alpha,f)_y}= - m_{Au} v_{(Au)_y}\n",
    "\\end{matrix}\\right.\n",
    "$$"
   ]
  },
  {
   "cell_type": "markdown",
   "metadata": {
    "slideshow": {
     "slide_type": "fragment"
    }
   },
   "source": [
    "In componenti otterremo quindi infine:\n",
    "$$\n",
    "\\left\\{\\begin{matrix}\n",
    "m_\\alpha v_{(\\alpha,i)_x} = m_\\alpha v_{(\\alpha,f)} \\cos\\theta+m_{Au} v_{(Au)_x}\\\\ \n",
    "m_\\alpha v_{(\\alpha,f)} \\sin\\theta= - m_{Au} v_{(Au)_y}\n",
    "\\end{matrix}\\right.\n",
    "\\Rightarrow\n",
    "\\left\\{\\begin{matrix}\n",
    "v_{(Au)_x}=\\frac{m_\\alpha}{m_{Au}} \\left (v_{(\\alpha,i)_x}- v_{(\\alpha,f)} \\cos\\theta \\right )\\\\ \n",
    "v_{(Au)_y}=- \\frac{m_\\alpha}{m_{Au}} v_{(\\alpha,f)} \\sin\\theta\n",
    "\\end{matrix}\\right.\n",
    "$$"
   ]
  },
  {
   "cell_type": "markdown",
   "metadata": {
    "slideshow": {
     "slide_type": "slide"
    }
   },
   "source": [
    "* **La direzione**\n",
    "L'angolo della velocità del nucleo d'oro è dato da:\n",
    "$$\n",
    "\\phi = \\tan^{-1}\\left ( \\frac{v_{(Au)_y}}{v_{(Au)_x}}\\right )= \\tan^{-1}\\left ( \\frac{- \\frac{m_\\alpha}{m_{Au}} v_{(\\alpha,f)} \\sin\\theta}{\\frac{m_\\alpha}{m_{Au}} \\left (v_{(\\alpha,i)_x}- v_{(\\alpha,f)} \\cos\\theta \\right )} \\right ) = \\tan^{-1}\\left ( -\\frac{v_{(\\alpha,f)} \\sin\\theta}{v_{(\\alpha,i)_x}- v_{(\\alpha,f)} \\cos\\theta}\\right )\n",
    "$$"
   ]
  },
  {
   "cell_type": "markdown",
   "metadata": {
    "slideshow": {
     "slide_type": "fragment"
    }
   },
   "source": [
    "* **il modulo della la velocità si ottiene**\n",
    "$$\n",
    "v_{(Au)}=\\sqrt{v_{(Au)_x}^2+v_{(Au)_y}^2}=\\sqrt{\\frac{m_\\alpha^2}{m_{Au}^2} \\left (v_{(\\alpha,i)_x}- v_{(\\alpha,f)} \\cos\\theta \\right )^2+\\frac{m_\\alpha^2}{m_{Au}^2}v_{(\\alpha,f)}^2 \\sin^2\\theta}\\\\\n",
    "=\\frac{m_\\alpha}{m_{Au}}\\sqrt{\\left (v_{(\\alpha,i)_x}- v_{(\\alpha,f)} \\cos\\theta \\right )^2+v_{(\\alpha,f)}^2 \\sin^2\\theta}\\\\\n",
    "=\\frac{m_\\alpha}{m_{Au}}\\sqrt{v_{(\\alpha,i)_x}^2+ v_{(\\alpha,f)}^2 \\cos^2\\theta+v_{(\\alpha,f)}^2 \\sin^2\\theta-2v_{(\\alpha,i)_x}v_{(\\alpha,f)} \\cos\\theta}\\\\\n",
    "= \\frac{m_\\alpha}{m_{Au}}\\sqrt{v_{(\\alpha,i)_x}^2+ v_{(\\alpha,f)}^2 -2v_{(\\alpha,i)_x}v_{(\\alpha,f)} \\cos\\theta}\n",
    "$$"
   ]
  },
  {
   "cell_type": "code",
   "execution_count": 6,
   "metadata": {
    "slideshow": {
     "slide_type": "slide"
    }
   },
   "outputs": [
    {
     "name": "stdout",
     "output_type": "stream",
     "text": [
      "Inserisci il valore della velocità iniziale della particella alfa: 150\n",
      "Inserisci il valore della velocità finale della particella alfa: 130\n",
      "Inserisci l'angolo theta di deviazione della particella alfa. Ricorda che deve essere compreso tra (0,360): 75\n",
      "la componente x della velocità del nucleo di oro è 2.372E+00 m/s\n",
      "la componente x della velocità del nucleo di oro è -2.560E+00 m/s\n",
      "Il modulo della velocità del nucleo di oro è 3.490E+00 m/s\n",
      "angolo della velocità del nucloo di oro -47.18 °\n"
     ]
    }
   ],
   "source": [
    "#inserisci i dati\n",
    "V_ai =  float(input(\"Inserisci il valore della velocità iniziale della particella alfa: \"))\n",
    "V_af =  float(input(\"Inserisci il valore della velocità finale della particella alfa: \"))\n",
    "\n",
    "theta =  float(input(\"Inserisci l'angolo theta di deviazione della particella alfa. Ricorda che deve essere compreso tra (0,360): \"))\n",
    "\n",
    "\n",
    "theta_rad= theta*np.pi/180 #angolo in radianti\n",
    "V_afX = V_af*np.cos(theta_rad) # componente x dela velocità finale della particella alfa\n",
    "V_afY = V_af*np.sin(theta_rad) # componente y dela velocità finale della particella alfa\n",
    "\n",
    "V_AuX = ma/mAu*(V_ai-V_afX) #componente X della velocità del nucelo d'oro\n",
    "V_AuY = -ma/mAu*V_afY #componente Y della velocità del nucelo d'oro\n",
    "V_Au = np.sqrt(V_AuX**2+V_AuY**2)\n",
    "\n",
    "phi_rad = np.arctan(V_AuY/V_AuX)\n",
    "phi_deg = phi_rad*180/np.pi\n",
    "\n",
    "\n",
    "print('la componente x della velocità del nucleo di oro è',f\"{V_AuX:.3E}\",'m/s')\n",
    "print('la componente x della velocità del nucleo di oro è',f\"{V_AuY:.3E}\",'m/s')\n",
    "print('Il modulo della velocità del nucleo di oro è',f\"{V_Au:.3E}\",'m/s')\n",
    "print('angolo della velocità del nucloo di oro',f\"{phi_deg:.2f}\",'°')"
   ]
  },
  {
   "cell_type": "code",
   "execution_count": null,
   "metadata": {},
   "outputs": [],
   "source": []
  },
  {
   "cell_type": "code",
   "execution_count": null,
   "metadata": {},
   "outputs": [],
   "source": []
  }
 ],
 "metadata": {
  "celltoolbar": "Slideshow",
  "kernelspec": {
   "display_name": "Python 3",
   "language": "python",
   "name": "python3"
  },
  "language_info": {
   "codemirror_mode": {
    "name": "ipython",
    "version": 3
   },
   "file_extension": ".py",
   "mimetype": "text/x-python",
   "name": "python",
   "nbconvert_exporter": "python",
   "pygments_lexer": "ipython3",
   "version": "3.7.7"
  }
 },
 "nbformat": 4,
 "nbformat_minor": 4
}
