{
 "cells": [
  {
   "cell_type": "markdown",
   "metadata": {
    "slideshow": {
     "slide_type": "slide"
    }
   },
   "source": [
    "# Atomic Models\n",
    "\n",
    "<a title=\"Ville Takanen / CC BY (https://creativecommons.org/licenses/by/3.0)\" href=\"https://commons.wikimedia.org/wiki/File:Evolution_of_atomic_models_infographic.svg\"><img width=\"512\" alt=\"Evolution of atomic models infographic\" src=\"https://upload.wikimedia.org/wikipedia/commons/thumb/8/8c/Evolution_of_atomic_models_infographic.svg/512px-Evolution_of_atomic_models_infographic.svg.png\"></a>\n",
    "\n",
    "\n"
   ]
  },
  {
   "cell_type": "code",
   "execution_count": null,
   "metadata": {},
   "outputs": [],
   "source": []
  },
  {
   "cell_type": "code",
   "execution_count": null,
   "metadata": {},
   "outputs": [],
   "source": []
  }
 ],
 "metadata": {
  "celltoolbar": "Slideshow",
  "kernelspec": {
   "display_name": "Python 3",
   "language": "python",
   "name": "python3"
  },
  "language_info": {
   "codemirror_mode": {
    "name": "ipython",
    "version": 3
   },
   "file_extension": ".py",
   "mimetype": "text/x-python",
   "name": "python",
   "nbconvert_exporter": "python",
   "pygments_lexer": "ipython3",
   "version": "3.7.7"
  }
 },
 "nbformat": 4,
 "nbformat_minor": 4
}
