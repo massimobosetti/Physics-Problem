{
 "cells": [
  {
   "cell_type": "markdown",
   "metadata": {
    "slideshow": {
     "slide_type": "slide"
    }
   },
   "source": [
    "# Atomic Models\n",
    "\n",
    "<a title=\"Ville Takanen / CC BY (https://creativecommons.org/licenses/by/3.0)\" href=\"https://commons.wikimedia.org/wiki/File:Evolution_of_atomic_models_infographic.svg\"><img width=\"512\" alt=\"Evolution of atomic models infographic\" src=\"https://upload.wikimedia.org/wikipedia/commons/thumb/8/8c/Evolution_of_atomic_models_infographic.svg/512px-Evolution_of_atomic_models_infographic.svg.png\"></a>\n",
    "\n",
    "\n"
   ]
  },
  {
   "cell_type": "code",
   "execution_count": 2,
   "metadata": {},
   "outputs": [],
   "source": [
    "#libreirie utili\n",
    "import numpy as np\n",
    "import pandas as pd\n",
    "import matplotlib.pyplot as plt\n",
    "%matplotlib inline\n",
    "from IPython.display import IFrame\n",
    "\n",
    "e = 1.602*10**-19 #carica dell'elettrone\n",
    "eps0 = 8.854187*10**-12 #costante dielettrica del vuoto\n",
    "eV = 1.602*10**-19 #joule per un eV\n",
    "u = 1.66*10**-27 #u.m.a\n",
    "me = 9.109*10**-31 #massa dell'elettrone\n",
    "ma = 6.665*10**-27 #massa particelle alfa\n",
    "mAu = 196.9665*u #massa nucleo d'oro"
   ]
  },
  {
   "cell_type": "code",
   "execution_count": 3,
   "metadata": {},
   "outputs": [
    {
     "data": {
      "text/html": [
       "\n",
       "        <iframe\n",
       "            width=\"700\"\n",
       "            height=\"600\"\n",
       "            src=\"https://iwant2study.org/lookangejss/06QuantumPhysics/ejss_model_bohrhwee/bohrhwee_Simulation.xhtml\"\n",
       "            frameborder=\"0\"\n",
       "            allowfullscreen\n",
       "        ></iframe>\n",
       "        "
      ],
      "text/plain": [
       "<IPython.lib.display.IFrame at 0x7f75d0270950>"
      ]
     },
     "execution_count": 3,
     "metadata": {},
     "output_type": "execute_result"
    }
   ],
   "source": [
    "IFrame(src='https://iwant2study.org/lookangejss/06QuantumPhysics/ejss_model_bohrhwee/bohrhwee_Simulation.xhtml'\n",
    ", width=700, height=600)"
   ]
  },
  {
   "cell_type": "code",
   "execution_count": 14,
   "metadata": {},
   "outputs": [
    {
     "data": {
      "text/html": [
       "\n",
       "        <iframe\n",
       "            width=\"900\"\n",
       "            height=\"600\"\n",
       "            src=\"https://interactives.ck12.org/simulations/physics/atomic-colors/app/index.html?screen=sandbox&hash=cc1b8defb5c14f59c7d2c734f7887271&source=ck12&artifactID=1935122&collectionCreatorID=3&conceptCollectionHandle=physics-::-bohrs-atomic-model&collectionHandle=physics\"\n",
       "            frameborder=\"0\"\n",
       "            allowfullscreen\n",
       "        ></iframe>\n",
       "        "
      ],
      "text/plain": [
       "<IPython.lib.display.IFrame at 0x7f75a75bed50>"
      ]
     },
     "execution_count": 14,
     "metadata": {},
     "output_type": "execute_result"
    }
   ],
   "source": [
    "IFrame(src='https://interactives.ck12.org/simulations/physics/atomic-colors/app/index.html?screen=sandbox&hash=cc1b8defb5c14f59c7d2c734f7887271&source=ck12&artifactID=1935122&collectionCreatorID=3&conceptCollectionHandle=physics-::-bohrs-atomic-model&collectionHandle=physics'\n",
    ", width=900, height=600)"
   ]
  },
  {
   "cell_type": "code",
   "execution_count": 9,
   "metadata": {},
   "outputs": [
    {
     "name": "stdout",
     "output_type": "stream",
     "text": [
      "Help on class IFrame in module IPython.lib.display:\n",
      "\n",
      "class IFrame(builtins.object)\n",
      " |  IFrame(src, width, height, **kwargs)\n",
      " |  \n",
      " |  Generic class to embed an iframe in an IPython notebook\n",
      " |  \n",
      " |  Methods defined here:\n",
      " |  \n",
      " |  __init__(self, src, width, height, **kwargs)\n",
      " |      Initialize self.  See help(type(self)) for accurate signature.\n",
      " |  \n",
      " |  ----------------------------------------------------------------------\n",
      " |  Data descriptors defined here:\n",
      " |  \n",
      " |  __dict__\n",
      " |      dictionary for instance variables (if defined)\n",
      " |  \n",
      " |  __weakref__\n",
      " |      list of weak references to the object (if defined)\n",
      " |  \n",
      " |  ----------------------------------------------------------------------\n",
      " |  Data and other attributes defined here:\n",
      " |  \n",
      " |  iframe = '\\n        <iframe\\n            width=\"{width}\"\\n   ...      ...\n",
      "\n"
     ]
    }
   ],
   "source": [
    "help(IFrame)"
   ]
  },
  {
   "cell_type": "code",
   "execution_count": null,
   "metadata": {},
   "outputs": [],
   "source": []
  }
 ],
 "metadata": {
  "celltoolbar": "Slideshow",
  "kernelspec": {
   "display_name": "Python 3",
   "language": "python",
   "name": "python3"
  },
  "language_info": {
   "codemirror_mode": {
    "name": "ipython",
    "version": 3
   },
   "file_extension": ".py",
   "mimetype": "text/x-python",
   "name": "python",
   "nbconvert_exporter": "python",
   "pygments_lexer": "ipython3",
   "version": "3.7.7"
  }
 },
 "nbformat": 4,
 "nbformat_minor": 4
}
