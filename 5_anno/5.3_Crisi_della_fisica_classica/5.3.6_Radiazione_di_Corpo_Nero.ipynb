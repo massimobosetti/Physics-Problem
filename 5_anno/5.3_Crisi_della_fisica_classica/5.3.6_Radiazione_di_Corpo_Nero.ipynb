{
 "cells": [
  {
   "cell_type": "code",
   "execution_count": 7,
   "metadata": {},
   "outputs": [],
   "source": [
    "#libreirie utili\n",
    "import numpy as np\n",
    "import pandas as pd\n",
    "import matplotlib.pyplot as plt\n",
    "%matplotlib inline\n",
    "from IPython.display import IFrame\n",
    "\n",
    "e = 1.602*10**-19 #carica dell'elettrone\n",
    "eps0 = 8.854187*10**-12 #costante dielettrica del vuoto\n",
    "eV = 1.602*10**-19 #joule per un eV\n",
    "u = 1.66*10**-27 #u.m.a\n",
    "me = 9.109*10**-31 #massa dell'elettrone\n",
    "ma = 6.665*10**-27 #massa particelle alfa\n",
    "mAu = 196.9665*u #massa nucleo d'oro"
   ]
  },
  {
   "cell_type": "code",
   "execution_count": 8,
   "metadata": {},
   "outputs": [
    {
     "data": {
      "text/html": [
       "\n",
       "        <iframe\n",
       "            width=\"700\"\n",
       "            height=\"600\"\n",
       "            src=\"https://phet.colorado.edu/sims/html/blackbody-spectrum/latest/blackbody-spectrum_en.html\"\n",
       "            frameborder=\"0\"\n",
       "            allowfullscreen\n",
       "        ></iframe>\n",
       "        "
      ],
      "text/plain": [
       "<IPython.lib.display.IFrame at 0x7f2100211990>"
      ]
     },
     "execution_count": 8,
     "metadata": {},
     "output_type": "execute_result"
    }
   ],
   "source": [
    "IFrame(src='https://phet.colorado.edu/sims/html/blackbody-spectrum/latest/blackbody-spectrum_en.html', width=700, height=600)"
   ]
  },
  {
   "cell_type": "code",
   "execution_count": null,
   "metadata": {},
   "outputs": [],
   "source": []
  }
 ],
 "metadata": {
  "kernelspec": {
   "display_name": "Python 3",
   "language": "python",
   "name": "python3"
  },
  "language_info": {
   "codemirror_mode": {
    "name": "ipython",
    "version": 3
   },
   "file_extension": ".py",
   "mimetype": "text/x-python",
   "name": "python",
   "nbconvert_exporter": "python",
   "pygments_lexer": "ipython3",
   "version": "3.7.7"
  }
 },
 "nbformat": 4,
 "nbformat_minor": 4
}
