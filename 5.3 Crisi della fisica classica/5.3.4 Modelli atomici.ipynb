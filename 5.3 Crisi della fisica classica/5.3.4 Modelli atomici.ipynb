{
 "cells": [
  {
   "cell_type": "markdown",
   "metadata": {
    "slideshow": {
     "slide_type": "slide"
    }
   },
   "source": [
    "# Atomic Models\n",
    "\n",
    "<a title=\"Ville Takanen / CC BY (https://creativecommons.org/licenses/by/3.0)\" href=\"https://commons.wikimedia.org/wiki/File:Evolution_of_atomic_models_infographic.svg\"><img width=\"512\" alt=\"Evolution of atomic models infographic\" src=\"https://upload.wikimedia.org/wikipedia/commons/thumb/8/8c/Evolution_of_atomic_models_infographic.svg/512px-Evolution_of_atomic_models_infographic.svg.png\"></a>\n",
    "\n",
    "\n"
   ]
  },
  {
   "cell_type": "code",
   "execution_count": 15,
   "metadata": {
    "slideshow": {
     "slide_type": "skip"
    }
   },
   "outputs": [],
   "source": [
    "import numpy as np\n",
    "e= 1.602*10**-19 #carica dell'elettrone\n",
    "eps0 = 8.854187*10**-12 #costante dielettrica del vuoto\n",
    "eV = 1.602*10**-19 #joule per un eV"
   ]
  },
  {
   "cell_type": "markdown",
   "metadata": {
    "slideshow": {
     "slide_type": "slide"
    }
   },
   "source": [
    "## Prob 1\n",
    "### Distanza minima dal nucleo - Rutherford\n",
    "\n",
    "Nell'esperimento di diffusione di Rutherford furono lanciate delle particelle alfa (carica $+2e$) contro una lamina d'oro. Condidera una particella alfa diretta contro il nucleo di un atomo d'oro (carica $+79e$), con un'energia cinetica $K_\\alpha$. Calcola la distanza minima del nucleo alla quale può arrivare una particella alfa nel caso in cui $K_\\alpha=3,0\\,MeV$. \n"
   ]
  },
  {
   "cell_type": "markdown",
   "metadata": {},
   "source": [
    "### Soluzione\n",
    "<img src=\"https://docs.google.com/drawings/d/e/2PACX-1vTrGyv2j46PD2-XTpMfTo5bmTkiE3zn7pnsPA7uu7zkwhgaBGNy_d502G8XxoeipJ--6Gv69KyvAkHY/pub?w=960&amp;h=500\">\n",
    "\n",
    "Essendo l'urto elastico abbiamo la conservazione dell'energia cinetica della particella, inoltre l'unica forza agente è la repulsione Coulmbiana e quindi una forza conservativa. Abbiamo quindi la conservazione dell'energia totale nelle 3 fasi.\n",
    "Nella fase 1) la particella non risente ancora del potenziale dovuto al nucleo dell'atomo d'oro, quindi $$E_{tot}^{(1)}=K_\\alpha$$\n",
    "\n",
    "Quando la partcella si avvicina rallenta e quindi l'energia cinetica viene trasformata in energia potenziale finché si ferma e quindi nel punto (2) la particella ha energia cinetica nulla, e solo energia potenziale\n",
    "$$E_{tot}^{(2)}=U_{el}(r_{min})$$\n",
    "Dove $r_{min}$ è la distanza minima tra il nucleo e la particella.\n",
    "Ora l'energia si conserva quindi dobbiamo avere che:\n",
    "$$\n",
    "\\begin{matrix}\n",
    " E_{tot}^{(1)} &=& E_{tot}^{(2)}\\\\ \n",
    "  K_\\alpha& =& U_{el}(r_{min})\\\\ \n",
    " \\end{matrix}\n",
    "$$\n",
    "\n",
    "Sostituendo $U_{el}(r)=\\frac{1}{4\\pi \\varepsilon_0}\\frac{q_1q_2}{r}$\n",
    "Otteniamo:\n",
    "\n",
    "$$\n",
    "K_\\alpha =\\frac{1}{4\\pi \\varepsilon_0}\\frac{q_1q_2}{r_{min}} \\Rightarrow r_{min}=\\frac{1}{4\\pi \\varepsilon_0}\\frac{q_1q_2}{K_\\alpha} \n",
    "$$"
   ]
  },
  {
   "cell_type": "code",
   "execution_count": 20,
   "metadata": {
    "slideshow": {
     "slide_type": "fragment"
    }
   },
   "outputs": [
    {
     "name": "stdout",
     "output_type": "stream",
     "text": [
      "energia cinetica della particella è di 4.806E-13 J\n",
      "la distanza minima è di 7.583E-14 m\n"
     ]
    }
   ],
   "source": [
    "#Dati\n",
    "q1=2*e\n",
    "q2=79*e\n",
    "Ka=(3*10**6)*eV\n",
    "#Dobbiamo trasformare tutte le unità nel in unità del S.I.\n",
    "print('energia cinetica della particella è di', f\"{Ka:.3E}\",'J')\n",
    "\n",
    "r_min = (1/(4*np.pi*eps0))*((q1*q2)/Ka)\n",
    "print('la distanza minima è di',f\"{r_min:.3E}\", 'm')"
   ]
  },
  {
   "cell_type": "code",
   "execution_count": null,
   "metadata": {},
   "outputs": [],
   "source": []
  }
 ],
 "metadata": {
  "celltoolbar": "Slideshow",
  "kernelspec": {
   "display_name": "Python 3",
   "language": "python",
   "name": "python3"
  },
  "language_info": {
   "codemirror_mode": {
    "name": "ipython",
    "version": 3
   },
   "file_extension": ".py",
   "mimetype": "text/x-python",
   "name": "python",
   "nbconvert_exporter": "python",
   "pygments_lexer": "ipython3",
   "version": "3.7.6"
  }
 },
 "nbformat": 4,
 "nbformat_minor": 4
}
