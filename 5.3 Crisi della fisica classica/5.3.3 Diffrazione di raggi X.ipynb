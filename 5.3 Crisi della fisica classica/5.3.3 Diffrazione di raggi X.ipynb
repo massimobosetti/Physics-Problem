{
 "cells": [
  {
   "cell_type": "markdown",
   "metadata": {
    "slideshow": {
     "slide_type": "slide"
    }
   },
   "source": [
    "# 5.3.3 Diffrazione di raggi X\n",
    "<img src=\"https://live.staticflickr.com/4568/26386479539_19c55bbd2a_b.jpg\">\n"
   ]
  },
  {
   "cell_type": "code",
   "execution_count": 6,
   "metadata": {
    "slideshow": {
     "slide_type": "skip"
    }
   },
   "outputs": [],
   "source": [
    "import numpy as np #libreria per gestire funzioni matematiche"
   ]
  },
  {
   "cell_type": "markdown",
   "metadata": {
    "slideshow": {
     "slide_type": "slide"
    }
   },
   "source": [
    "## Prob 1\n",
    "Un fascio di raggi X di lunghezza d'onda $\\lambda = 0,0850\\, nm$ è diffratto da un cristallo. Se il 2° massimo di diffrazione è osservato a un angolo di $21,5°$, qual è la distanza tra i piani reticolari?\n",
    "\n"
   ]
  },
  {
   "cell_type": "markdown",
   "metadata": {
    "slideshow": {
     "slide_type": "subslide"
    }
   },
   "source": [
    "# Soluzione\n",
    "Applicando la legge di Bragg\n",
    "\n",
    "<a title=\"Dipl.-Phys. (JPG-version), Matthias M. (SVG-version) / Public domain\" href=\"https://commons.wikimedia.org/wiki/File:Bragg.svg\"><img width=\"200\" alt=\"Bragg\" src=\"https://upload.wikimedia.org/wikipedia/commons/thumb/c/ca/Bragg.svg/512px-Bragg.svg.png\">\n",
    "\n",
    "\n",
    "$$n\\lambda =2d \\sin(\\theta);\\quad n=\\pm 1, \\pm 2, \\dots$$\n",
    "\n",
    "dove:\n",
    "\n",
    "* $\\theta$   è l'angolo che il fascio uscente forma col piano cristallino\n",
    "* $\\lambda$ è la lunghezza d'onda della radiazione\n",
    "* $d$ è la distanza tra due piani adiacenti\n",
    "* $n$  è un intero positivo.\n",
    "\n",
    "Nel problema dobbiamo $n=2$ dobbiamo ricavare $d$ facendo la formula inversa\n",
    "$$\n",
    "d= \\frac{n\\lambda}{2\\sin(\\theta)}.\n",
    "$$"
   ]
  },
  {
   "cell_type": "code",
   "execution_count": 5,
   "metadata": {
    "slideshow": {
     "slide_type": "fragment"
    }
   },
   "outputs": [
    {
     "name": "stdout",
     "output_type": "stream",
     "text": [
      "la distanza tra i piani è di 2.319E-10 m\n"
     ]
    }
   ],
   "source": [
    "#Dati\n",
    "n = 2\n",
    "theta = 21.5*np.pi/180 #angolo in radianti=angolo in gradi*pi/180\n",
    "lw = 0.0850*10**-9\n",
    "\n",
    "d =(n*lw)/(np.sin(theta)*2)\n",
    "\n",
    "print('la distanza tra i piani è di', f\"{d:.3E}\",'m')\n"
   ]
  },
  {
   "cell_type": "code",
   "execution_count": null,
   "metadata": {},
   "outputs": [],
   "source": []
  }
 ],
 "metadata": {
  "celltoolbar": "Slideshow",
  "kernelspec": {
   "display_name": "Python 3",
   "language": "python",
   "name": "python3"
  },
  "language_info": {
   "codemirror_mode": {
    "name": "ipython",
    "version": 3
   },
   "file_extension": ".py",
   "mimetype": "text/x-python",
   "name": "python",
   "nbconvert_exporter": "python",
   "pygments_lexer": "ipython3",
   "version": "3.7.6"
  }
 },
 "nbformat": 4,
 "nbformat_minor": 4
}
