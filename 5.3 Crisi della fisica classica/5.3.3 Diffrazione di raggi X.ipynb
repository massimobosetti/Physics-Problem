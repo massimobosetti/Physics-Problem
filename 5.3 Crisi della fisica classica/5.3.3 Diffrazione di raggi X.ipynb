{
 "cells": [
  {
   "cell_type": "markdown",
   "metadata": {
    "slideshow": {
     "slide_type": "slide"
    }
   },
   "source": [
    "# 5.3.3 Diffrazione di raggi X\n",
    "<img src=\"https://live.staticflickr.com/4568/26386479539_19c55bbd2a_b.jpg\">\n"
   ]
  },
  {
   "cell_type": "code",
   "execution_count": 2,
   "metadata": {
    "slideshow": {
     "slide_type": "skip"
    }
   },
   "outputs": [],
   "source": [
    "import numpy as np"
   ]
  },
  {
   "cell_type": "markdown",
   "metadata": {
    "slideshow": {
     "slide_type": "slide"
    }
   },
   "source": [
    "## Prob 1\n",
    "Un fascio di raggi X di lunghezza d'onda $\\lambda = 0,0850\\, nm$ è diffratto da un cristallo. Se il 2° massimo di diffrazione è osservato a un angolo di $21,5°$, qual è la distanza tra i piani reticolari?\n",
    "\n"
   ]
  },
  {
   "cell_type": "markdown",
   "metadata": {
    "slideshow": {
     "slide_type": "subslide"
    }
   },
   "source": [
    "# Soluzione\n",
    "Applicando la legge di Bragg\n",
    "\n",
    "<img src=\"https://upload.wikimedia.org/wikipedia/commons/thumb/c/ca/Bragg.svg/310px-Bragg.svg.png\" style=\"height:150px\">\n",
    "\n",
    "$$n\\lambda =2d \\sin(\\theta);\\quad n=\\pm 1, \\pm 2, \\dots$$\n",
    "\n",
    "dove:\n",
    "\n",
    "* $\\theta$   è l'angolo che il fascio uscente forma col piano cristallino\n",
    "* $\\lambda$ è la lunghezza d'onda della radiazione\n",
    "* $d$ è la distanza tra due piani adiacenti\n",
    "* $n$  è un intero positivo.\n",
    "\n",
    "Nel problema dobbiamo $n=2$ dobbiamo ricavare $d$ facendo la formula inversa\n",
    "$$\n",
    "d= \\frac{n\\lambda}{2\\sin(\\theta)}.\n",
    "$$"
   ]
  },
  {
   "cell_type": "code",
   "execution_count": 4,
   "metadata": {
    "slideshow": {
     "slide_type": "fragment"
    }
   },
   "outputs": [
    {
     "name": "stdout",
     "output_type": "stream",
     "text": [
      "la distanza tra i piani è di 1.802E-10 m\n"
     ]
    }
   ],
   "source": [
    "#Dati\n",
    "n = 2\n",
    "theta = 21.5 #angolo in radianti\n",
    "lw = 0.0850*10**-9\n",
    "\n",
    "d =(n*lw)/(np.sin(theta)*2)\n",
    "\n",
    "print('la distanza tra i piani è di', f\"{d:.3E}\",'m')\n"
   ]
  },
  {
   "cell_type": "code",
   "execution_count": null,
   "metadata": {},
   "outputs": [],
   "source": []
  }
 ],
 "metadata": {
  "celltoolbar": "Slideshow",
  "kernelspec": {
   "display_name": "Python 3",
   "language": "python",
   "name": "python3"
  },
  "language_info": {
   "codemirror_mode": {
    "name": "ipython",
    "version": 3
   },
   "file_extension": ".py",
   "mimetype": "text/x-python",
   "name": "python",
   "nbconvert_exporter": "python",
   "pygments_lexer": "ipython3",
   "version": "3.7.6"
  }
 },
 "nbformat": 4,
 "nbformat_minor": 4
}
