{
 "cells": [
  {
   "cell_type": "markdown",
   "metadata": {
    "slideshow": {
     "slide_type": "slide"
    }
   },
   "source": [
    "# Problemi sulla crisi della fisica classica"
   ]
  },
  {
   "cell_type": "code",
   "execution_count": 2,
   "metadata": {
    "slideshow": {
     "slide_type": "fragment"
    }
   },
   "outputs": [],
   "source": [
    "from decimal import Decimal\n",
    "\n",
    "#Dati utili\n",
    "e=1.602*10**-19 #carica dell'elettrone e del protone\n",
    "m_e=9.109*10**-31 #massa dell'elettrone"
   ]
  },
  {
   "cell_type": "markdown",
   "metadata": {
    "slideshow": {
     "slide_type": "slide"
    }
   },
   "source": [
    "# prob 1\n",
    "## moto di un elettrone in un campo magnetico\n",
    "Cacola la velocità di un elettrone che si muove su un arco di circonferenza di $r=0,10 m$ perpendicolare a un campo magnetico di intensità $B= 1,0\\cdot10^{-4}\\, T$\n",
    "<img src=\"https://upload.wikimedia.org/wikipedia/commons/thumb/0/06/FuerzaCentripetaLorentzN.svg/543px-FuerzaCentripetaLorentzN.svg.png\">\n"
   ]
  },
  {
   "cell_type": "markdown",
   "metadata": {
    "slideshow": {
     "slide_type": "subslide"
    }
   },
   "source": [
    "## Soluzione\n",
    "Definiamo $e$ carica dell'elettrone ed $m_e$ la massa dell'elettrone\n",
    "Basta ricordare che $\\vec F_m = e\\vec v \\times \\vec B$ e in questo caso visto che $\\vec v$ è perpendicolare a $\\vec B$ allora abbiamo che $F_m=e vB$.\n",
    "La forza magnetica è equivalente ad una forza centripeta cioè $F_c=m_e \\frac{v^2}{r}$.\n",
    "Allora abbiamo\n",
    "$$e vB=m_e \\frac{v^2}{r} \\Rightarrow e B=m_e\\frac{v}{r}$$\n",
    "Sotituendo otteniamo che \n",
    "$$\n",
    "v=\\frac{e B r}{m_e}\n",
    "$$\n"
   ]
  },
  {
   "cell_type": "code",
   "execution_count": 3,
   "metadata": {
    "slideshow": {
     "slide_type": "fragment"
    }
   },
   "outputs": [
    {
     "name": "stdout",
     "output_type": "stream",
     "text": [
      "la velocità è di  1.759E+06 m/s\n"
     ]
    }
   ],
   "source": [
    "B = 1*10**-4\n",
    "r = 0.10\n",
    "v = (e*B*r)/(m_e)\n",
    "print('la velocità è di ', f\"{v:.3E}\", 'm/s')"
   ]
  },
  {
   "cell_type": "markdown",
   "metadata": {
    "slideshow": {
     "slide_type": "slide"
    }
   },
   "source": [
    "# Prob 2\n",
    "## Carbonio-12\n",
    "\n",
    "Per uno ione carbonio-12 il rapporto carica/massa equivale a $8,04\\cdot 10^{6}\\, C/kg$. Calcola o raggio della traiettoria quando lo ione ha una velocità $v=150\\, km/s$ perpendicolare a un campo magnetico di intensità $B=0,50\\, T$."
   ]
  },
  {
   "cell_type": "markdown",
   "metadata": {
    "slideshow": {
     "slide_type": "subslide"
    }
   },
   "source": [
    "# Soluzione\n",
    "\n",
    "Dall'equazione dell'esercizio precedente si ha:\n",
    "$$\n",
    "f_m =F_c \\Rightarrow qvB=m\\frac{v^2}{r} \\Rightarrow qB=m\\frac{v}{r}\\\\\n",
    "r = \\frac{mvb}{qB}\n",
    "$$"
   ]
  },
  {
   "cell_type": "code",
   "execution_count": 5,
   "metadata": {
    "slideshow": {
     "slide_type": "fragment"
    }
   },
   "outputs": [
    {
     "name": "stdout",
     "output_type": "stream",
     "text": [
      "il raggio è di  3.731E-01 m\n"
     ]
    }
   ],
   "source": [
    "#Dati\n",
    "v = 1.5*10**6 #velocità in m/s\n",
    "qOVERm = 8.04*10**6 #rapporto q/m per lo ione\n",
    "B = 0.50\n",
    "\n",
    "r = qOVERm**-1*v/B\n",
    "print('il raggio è di ', f\"{r:.3E}\", 'm')"
   ]
  },
  {
   "cell_type": "markdown",
   "metadata": {
    "slideshow": {
     "slide_type": "slide"
    }
   },
   "source": [
    "# Prob. 3\n",
    "## Levitazione magnetica\n",
    "\n",
    "Metre si dirige verso il metal detector del controllo di sicurezza di un aeroporto, un passeggiero accumula  5,0𝜇𝐶  muovendosi su un nastro trasportatore da sinistra verso destra.\n",
    "\n",
    "1. Se la forza dovuta al campo magnetico è diretta verso l'alto, come è diretto il campo magnetico?\n",
    "1. Se il metal detector usa un campo magnetico di $0,050\\, T$, a quale velocità dovrebbe correre il passeggero per essere senza peso apparente (supponi che la massa del passegegro sia $m=80\\, kg$ ?\n",
    "1. Potrebbe essere una buona idea usare un metal detector come dispositivo per var levitare i corpi?\n"
   ]
  },
  {
   "cell_type": "code",
   "execution_count": null,
   "metadata": {
    "slideshow": {
     "slide_type": "subslide"
    }
   },
   "outputs": [],
   "source": [
    "# Soluzione\n",
    "1. Per determinare il verso del campo magnetico basta ricordare la regola della mano destra del prodotto vettoriale\n",
    "\n",
    "<img src=\" \">"
   ]
  }
 ],
 "metadata": {
  "celltoolbar": "Slideshow",
  "kernelspec": {
   "display_name": "Python 3",
   "language": "python",
   "name": "python3"
  },
  "language_info": {
   "codemirror_mode": {
    "name": "ipython",
    "version": 3
   },
   "file_extension": ".py",
   "mimetype": "text/x-python",
   "name": "python",
   "nbconvert_exporter": "python",
   "pygments_lexer": "ipython3",
   "version": "3.7.6"
  }
 },
 "nbformat": 4,
 "nbformat_minor": 4
}
