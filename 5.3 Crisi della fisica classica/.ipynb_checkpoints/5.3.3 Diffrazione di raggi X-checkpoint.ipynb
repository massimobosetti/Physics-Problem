{
 "cells": [
  {
   "cell_type": "markdown",
   "metadata": {
    "slideshow": {
     "slide_type": "slide"
    }
   },
   "source": [
    "# 5.3.3 Diffrazione di raggi X\n",
    "<img src=\"https://live.staticflickr.com/4568/26386479539_19c55bbd2a_b.jpg\">\n"
   ]
  },
  {
   "cell_type": "code",
   "execution_count": 6,
   "metadata": {
    "slideshow": {
     "slide_type": "skip"
    }
   },
   "outputs": [],
   "source": [
    "import numpy as np #libreria per gestire funzioni matematiche"
   ]
  },
  {
   "cell_type": "markdown",
   "metadata": {
    "slideshow": {
     "slide_type": "slide"
    }
   },
   "source": [
    "## Prob 1\n",
    "Un fascio di raggi X di lunghezza d'onda $\\lambda = 0,0850\\, nm$ è diffratto da un cristallo. Se il 2° massimo di diffrazione è osservato a un angolo di $21,5°$, qual è la distanza tra i piani reticolari?\n",
    "\n"
   ]
  },
  {
   "cell_type": "markdown",
   "metadata": {
    "slideshow": {
     "slide_type": "subslide"
    }
   },
   "source": [
    "# Soluzione\n",
    "Applicando la legge di Bragg\n",
    "\n",
    "<a title=\"Dipl.-Phys. (JPG-version), Matthias M. (SVG-version) / Public domain\" href=\"https://commons.wikimedia.org/wiki/File:Bragg.svg\"><img width=\"200\" alt=\"Bragg\" src=\"https://upload.wikimedia.org/wikipedia/commons/thumb/c/ca/Bragg.svg/512px-Bragg.svg.png\">\n",
    "</a>\n",
    "\n",
    "$$n\\lambda =2d \\sin(\\theta);\\quad n=\\pm 1, \\pm 2, \\dots$$\n",
    "\n",
    "dove:\n",
    "\n",
    "* $\\theta$   è l'angolo che il fascio uscente forma col piano cristallino\n",
    "* $\\lambda$ è la lunghezza d'onda della radiazione\n",
    "* $d$ è la distanza tra due piani adiacenti\n",
    "* $n$  è un intero positivo.\n",
    "\n",
    "Nel problema dobbiamo $n=2$ dobbiamo ricavare $d$ facendo la formula inversa\n",
    "$$\n",
    "d= \\frac{n\\lambda}{2\\sin(\\theta)}.\n",
    "$$"
   ]
  },
  {
   "cell_type": "code",
   "execution_count": 2,
   "metadata": {
    "slideshow": {
     "slide_type": "fragment"
    }
   },
   "outputs": [
    {
     "ename": "NameError",
     "evalue": "name 'np' is not defined",
     "output_type": "error",
     "traceback": [
      "\u001b[0;31m---------------------------------------------------------------------------\u001b[0m",
      "\u001b[0;31mNameError\u001b[0m                                 Traceback (most recent call last)",
      "\u001b[0;32m<ipython-input-2-31e2ba9d3a06>\u001b[0m in \u001b[0;36m<module>\u001b[0;34m\u001b[0m\n\u001b[1;32m      1\u001b[0m \u001b[0;31m#Dati\u001b[0m\u001b[0;34m\u001b[0m\u001b[0;34m\u001b[0m\u001b[0;34m\u001b[0m\u001b[0m\n\u001b[1;32m      2\u001b[0m \u001b[0mn\u001b[0m \u001b[0;34m=\u001b[0m \u001b[0;36m2\u001b[0m\u001b[0;34m\u001b[0m\u001b[0;34m\u001b[0m\u001b[0m\n\u001b[0;32m----> 3\u001b[0;31m \u001b[0mtheta\u001b[0m \u001b[0;34m=\u001b[0m \u001b[0;36m21.5\u001b[0m\u001b[0;34m*\u001b[0m\u001b[0mnp\u001b[0m\u001b[0;34m.\u001b[0m\u001b[0mpi\u001b[0m\u001b[0;34m/\u001b[0m\u001b[0;36m180\u001b[0m \u001b[0;31m#angolo in radianti=angolo in gradi*pi/180\u001b[0m\u001b[0;34m\u001b[0m\u001b[0;34m\u001b[0m\u001b[0m\n\u001b[0m\u001b[1;32m      4\u001b[0m \u001b[0mlw\u001b[0m \u001b[0;34m=\u001b[0m \u001b[0;36m0.0850\u001b[0m\u001b[0;34m*\u001b[0m\u001b[0;36m10\u001b[0m\u001b[0;34m**\u001b[0m\u001b[0;34m-\u001b[0m\u001b[0;36m9\u001b[0m\u001b[0;34m\u001b[0m\u001b[0;34m\u001b[0m\u001b[0m\n\u001b[1;32m      5\u001b[0m \u001b[0;34m\u001b[0m\u001b[0m\n",
      "\u001b[0;31mNameError\u001b[0m: name 'np' is not defined"
     ]
    }
   ],
   "source": [
    "#Dati\n",
    "n = 2\n",
    "theta = 21.5*np.pi/180 #angolo in radianti=angolo in gradi*pi/180\n",
    "lw = 0.0850*10**-9\n",
    "\n",
    "d =(n*lw)/(np.sin(theta)*2)\n",
    "\n",
    "print('la distanza tra i piani è di', f\"{d:.3E}\",'m')\n"
   ]
  },
  {
   "cell_type": "code",
   "execution_count": null,
   "metadata": {},
   "outputs": [],
   "source": []
  }
 ],
 "metadata": {
  "celltoolbar": "Slideshow",
  "kernelspec": {
   "display_name": "Python 3",
   "language": "python",
   "name": "python3"
  },
  "language_info": {
   "codemirror_mode": {
    "name": "ipython",
    "version": 3
   },
   "file_extension": ".py",
   "mimetype": "text/x-python",
   "name": "python",
   "nbconvert_exporter": "python",
   "pygments_lexer": "ipython3",
   "version": "3.7.6"
  }
 },
 "nbformat": 4,
 "nbformat_minor": 4
}
