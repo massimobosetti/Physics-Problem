{
 "cells": [
  {
   "cell_type": "markdown",
   "metadata": {
    "slideshow": {
     "slide_type": "slide"
    }
   },
   "source": [
    "# 5.3.2 L'epserimento di Millikan e l'unità fondamentale della carica\n",
    "<img src=\"https://upload.wikimedia.org/wikipedia/commons/7/76/Robert_A._Millikan_sketch_1931.png\" >"
   ]
  },
  {
   "cell_type": "markdown",
   "metadata": {
    "slideshow": {
     "slide_type": "slide"
    }
   },
   "source": [
    "## 1\n",
    "Calcola:\n",
    "1. la forza risultante agente su una sfera di carica $-5e$ e massa $m=2\\, kg$ posta in una campera a vuoto e immersa in campo elettrico diretto verso ò'aòto di intensità $E=1,0 \\cdot10^5\\, N/C$.\n",
    "1. Calcola "
   ]
  }
 ],
 "metadata": {
  "celltoolbar": "Slideshow",
  "kernelspec": {
   "display_name": "Python 3",
   "language": "python",
   "name": "python3"
  },
  "language_info": {
   "codemirror_mode": {
    "name": "ipython",
    "version": 3
   },
   "file_extension": ".py",
   "mimetype": "text/x-python",
   "name": "python",
   "nbconvert_exporter": "python",
   "pygments_lexer": "ipython3",
   "version": "3.7.6"
  }
 },
 "nbformat": 4,
 "nbformat_minor": 4
}
