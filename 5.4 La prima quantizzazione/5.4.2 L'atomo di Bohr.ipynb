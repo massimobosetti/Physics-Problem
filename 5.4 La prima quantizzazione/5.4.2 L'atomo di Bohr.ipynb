{
 "cells": [
  {
   "cell_type": "markdown",
   "metadata": {
    "slideshow": {
     "slide_type": "slide"
    }
   },
   "source": [
    "# Bohr model\n",
    "\n",
    "<a title=\"The American Institute of Physics credits the photo [1] to AB Lagrelius &amp; Westphal, which is the Swedish company used by the Nobel Foundation for most photos of its book series Les Prix Nobel. / Public domain\" href=\"https://commons.wikimedia.org/wiki/File:Niels_Bohr.jpg\"><img width=\"512\" alt=\"Niels Bohr\" src=\"https://upload.wikimedia.org/wikipedia/commons/thumb/6/6d/Niels_Bohr.jpg/512px-Niels_Bohr.jpg\"></a>\n"
   ]
  },
  {
   "cell_type": "code",
   "execution_count": null,
   "metadata": {},
   "outputs": [],
   "source": []
  }
 ],
 "metadata": {
  "celltoolbar": "Slideshow",
  "kernelspec": {
   "display_name": "Python 3",
   "language": "python",
   "name": "python3"
  },
  "language_info": {
   "codemirror_mode": {
    "name": "ipython",
    "version": 3
   },
   "file_extension": ".py",
   "mimetype": "text/x-python",
   "name": "python",
   "nbconvert_exporter": "python",
   "pygments_lexer": "ipython3",
   "version": "3.7.6"
  }
 },
 "nbformat": 4,
 "nbformat_minor": 4
}
