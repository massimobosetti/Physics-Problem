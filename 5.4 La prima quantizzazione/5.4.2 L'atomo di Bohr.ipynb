{
 "cells": [
  {
   "cell_type": "markdown",
   "metadata": {
    "slideshow": {
     "slide_type": "slide"
    }
   },
   "source": [
    "# Bohr model\n",
    "\n",
    "<a title=\"The American Institute of Physics credits the photo [1] to AB Lagrelius &amp; Westphal, which is the Swedish company used by the Nobel Foundation for most photos of its book series Les Prix Nobel. / Public domain\" href=\"https://commons.wikimedia.org/wiki/File:Niels_Bohr.jpg\"><img width=\"512\" alt=\"Niels Bohr\" src=\"https://upload.wikimedia.org/wikipedia/commons/thumb/6/6d/Niels_Bohr.jpg/512px-Niels_Bohr.jpg\"></a>\n"
   ]
  },
  {
   "cell_type": "markdown",
   "metadata": {
    "slideshow": {
     "slide_type": "slide"
    }
   },
   "source": [
    "# Energie quantizzate nel modello di Bohr\n",
    "\n",
    "Considera un elettrone in movimento circolare attorno a un protone fisso (pesante) come modello per l'atomo di idrogeno. Sia $V = −e^2 / r$ denota l'energia potenziale dell'elettrone e $F = e^2 / r^2$ sia l'entità della forza elettrostatica.\n",
    "\n",
    "\n"
   ]
  },
  {
   "cell_type": "markdown",
   "metadata": {
    "slideshow": {
     "slide_type": "subslide"
    }
   },
   "source": [
    "## Parte A\n",
    "Ricava la relazione tra l'energia cinetica $K$ dell'elettrone, la sua energia potenziale $V$ e l'energia totale $E$.\n",
    "\n",
    "\n"
   ]
  },
  {
   "cell_type": "markdown",
   "metadata": {
    "slideshow": {
     "slide_type": "fragment"
    }
   },
   "source": [
    "## Soluzione parte A\n",
    "\n",
    "L'elettrone si muove su di una traiettoria circolare, quindi serve una forza centripeta, che è generata dalla forza elettrostatica:\n",
    "$$\n",
    "\\begin{align}  F = \\frac{mv^2}{r} = \\frac{e^2}{r^2} \\end{align}\n",
    "$$\n",
    "l'energia cinetica si può ricavare come:\n",
    "$$\n",
    "\\begin{align}  K = \\frac{mv^2}{2} = \\frac{e^2}{2r}. \\end{align}.\n",
    "$$\n",
    "L'energia potenziale è quindi:\n",
    "\\begin{align}  V = - \\frac{e^2}{r} = - 2 K. \\end{align}\n",
    "Così l'enrgia totale è\n",
    "\\begin{align}  E = K + V = -\\frac{e^2}{2r}. \\end{align}\n",
    "Possiamo ora ricavare le due relazioni volute:\n",
    "\\begin{align}  K & = - E \\\\ V & = 2E \\end{align}"
   ]
  },
  {
   "cell_type": "markdown",
   "metadata": {
    "slideshow": {
     "slide_type": "subslide"
    }
   },
   "source": [
    "## Parte B\n",
    "\n",
    "Assumendo che il momento angolare di un elettrone $L$ sia quantizzato come $n \\hbar\\quad n=0,1,2,\\dots$ Ricavare i valori dell'energia quantizzati associati ai diversi raggi orbitali $r_n$.\n",
    "Esprimi la risposta in termini di $n$ il numero quantino principale, $E_e=m_ec^2$ l'energia a riposo dell'elettrone e della lunghezza d'onda Compton ridotta $\\lambda \\! \\! \\! \\bar{\\phantom{\\cdot }}= \\frac{\\hbar }{m_ e c}$ e di $\\alpha = \\frac{e^2}{\\hbar c}$ la costante di struttura fine.\n"
   ]
  },
  {
   "cell_type": "markdown",
   "metadata": {
    "slideshow": {
     "slide_type": "fragment"
    }
   },
   "source": [
    "## Soluzione parte B\n",
    "\n",
    "Possiamo esprimere l'energia cinetica in termini del momento angolare $L=mvr$ dell'elettrone.\n",
    "\\begin{align}  K = \\frac{1}{2} mv^2 = \\frac{1}{2} \\frac{m^2 v^2 r^2}{m r^2} = \\frac{L^2}{2 m r^2} \\end{align}\n",
    "Uguagliando l'epsressione per K ricavata nell aparte (A) otteniamo\n",
    "\\begin{align}  \\frac{L^2}{2 m_ e r^2} = \\frac{e^2}{2 r}, \\end{align}\n",
    "\n",
    "Possiamo quindi risolvere e ricavare\n",
    "\\begin{align}  r = \\frac{L^2}{m_ e e^2}. \\end{align}\n",
    "\n",
    "Possiamo quindi assumere la quantizzazione di del momento angolare $L_n=n\\hbar$. Usando $\\begin{align}  r = \\frac{L^2}{m_ e e^2}. \\end{align}$ otteniamo il raggio voluto\n",
    "\\begin{align}  r_ n = \\frac{n^2 \\hbar ^2}{m_ e e^2} = \\frac{n^2 \\hbar ^2}{m_ e \\alpha \\hbar c} = \\frac{n^2}{\\alpha } \\frac{\\hbar }{m_ e c} = \\frac{n^2 \\lambda \\! \\! \\! \\bar{\\phantom{\\cdot }}}{\\alpha }. \\end{align}\n",
    "\n",
    "Sostituendo $E=-e^2/2r$ ricavata nella parte (A) otteniamo\n",
    "\\begin{align}  E_ n = -\\frac{e^2}{2 r_ n} = -\\frac{e^2}{2} \\frac{m_ e \\alpha c}{n^2 \\hbar } = -\\frac{\\alpha ^2 m_ e c^2}{2 n^2} = -\\frac{\\alpha ^2 E_ e}{2 n^2}. \\end{align}\n",
    "\n",
    "E' interessante notare che $\\alpha^2\\approx 1/(137)^2 \\approx 1/19000$. Quindi le energie di legame scalano di un fatto $\\frac{1}{19000}$ rispetto all'energia a riposo dell'elettrone."
   ]
  },
  {
   "cell_type": "code",
   "execution_count": null,
   "metadata": {},
   "outputs": [],
   "source": []
  }
 ],
 "metadata": {
  "celltoolbar": "Slideshow",
  "kernelspec": {
   "display_name": "Python 3",
   "language": "python",
   "name": "python3"
  },
  "language_info": {
   "codemirror_mode": {
    "name": "ipython",
    "version": 3
   },
   "file_extension": ".py",
   "mimetype": "text/x-python",
   "name": "python",
   "nbconvert_exporter": "python",
   "pygments_lexer": "ipython3",
   "version": "3.7.6"
  }
 },
 "nbformat": 4,
 "nbformat_minor": 4
}
