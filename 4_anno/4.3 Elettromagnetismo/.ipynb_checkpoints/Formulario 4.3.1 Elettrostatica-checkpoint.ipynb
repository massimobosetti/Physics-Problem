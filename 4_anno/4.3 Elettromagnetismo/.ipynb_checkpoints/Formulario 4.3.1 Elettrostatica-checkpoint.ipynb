{
 "cells": [
  {
   "cell_type": "markdown",
   "metadata": {},
   "source": [
    "# 1. Elettrostatica\n",
    "\n",
    "## FORMULE VARIE: *la carica elettrica, legge di Coulomb, il campo elettrico, flusso e teorema di Gauss*\n",
    "\n",
    "- la legge di coulomb:\n",
    "$$ F_e=k\\cdot \\frac{q1q2}{r^{2}}$$\n",
    "\n",
    "- sovrapposizione di forze :\n",
    "$$\\vec F_1= \\vec F_{12}+\\vec F_{13}+\\dots+\\vec F_{1n}$$\n",
    "  \n",
    "- densità di carica:\n",
    "$$\\rho =\\frac{Q}{v}$$\n",
    "\n",
    "- carica su una sfera:\n",
    "$$Q=\\sigma 4\\pi\\ R^{2}$$\n",
    "\n",
    "- il campo elettrico:\n",
    "$$\\vec E=\\frac{\\vec F_e}{q_0}$$\n",
    "\n",
    "- intensità del campo elettrico prodotto da una carica puntiforme: $$E=k\\cdot \\frac{q}{r^{2}}$$\n",
    " \n",
    "- il flusso del campo elettrico e il teorema di Gauss :\n",
    "$$\\Phi (\\vec v)=\\vec v\\cdot \\vec A\\\\\n",
    "\\Phi (v)=vA\\cdot \\cos \\theta\n",
    "$$\n",
    "  \n",
    "- Flusso del campo elettrico \n",
    " 1. $\\Phi (\\vec E)=EA\\cdot \\cos\\theta $\n",
    " 2. $\\Phi (\\vec E)=\\vec E \\cdot \\vec A $\n",
    " 3. $\\Phi (\\vec E)=0$ se non ci sono cariche\n",
    "\n",
    "- campo elettrico di un filo rettilineo in un punto a distanza r :     $$ E=\\frac{\\lambda } {2\\pi\\ r\\varepsilon 0  }$$\n",
    "\n",
    "- campo elettrico in una lamina sottile : \n",
    "$$E=\\frac{\\sigma }{2\\varepsilon 0}$$\n",
    "\n",
    "- campo elettrico tra le armature di un condensatore piano :  $$E=\\frac{\\sigma }{\\varepsilon 0}$$\n",
    "\n",
    "- campo elettrico di una sfera conduttrice carica vuota:\n",
    "$$\n",
    "E_{sfera}(r)=\\left\\{\\begin{matrix}\n",
    " E =0  &;r<R\\quad \\text{all'interno} \\\\ \n",
    " E=\\frac{1}{4\\pi\\varepsilon_0}\\cdot \\frac{Q}{R^{2}} &; r=R  \\text{sulla superficie}\\\\ \n",
    " E=\\frac{1}{4\\pi\\varepsilon_0}\\cdot \\frac{Q}{r^{2}}&; r>R  \\text{all'esterno}\n",
    "\\end{matrix}\\right.\n",
    "$$\n",
    "- campo elettrico di una sfera isolante carica : \n",
    "$$\n",
    "E_{sfera}(r)=\\left\\{\\begin{matrix}\n",
    " E=\\frac{1 }{4\\pi\\varepsilon_0}\\cdot \\frac{Q}{R^{3}}\\cdot r &;r<R\\quad \\text{all'interno} \\\\ \n",
    " E=\\frac{1 }{4\\pi\\varepsilon 0}\\cdot \\frac{Q}{R^{2}}&; r=R  \\text{sulla superficie}\\\\ \n",
    " E=\\frac{1 }{4\\pi\\varepsilon 0}\\cdot \\frac{Q}{r^{2}}&; r>R  \\text{all'esterno}\n",
    "\\end{matrix}\\right.\n",
    "$$\n",
    " "
   ]
  },
  {
   "cell_type": "code",
   "execution_count": null,
   "metadata": {},
   "outputs": [],
   "source": []
  }
 ],
 "metadata": {
  "kernelspec": {
   "display_name": "Python 3",
   "language": "python",
   "name": "python3"
  },
  "language_info": {
   "codemirror_mode": {
    "name": "ipython",
    "version": 3
   },
   "file_extension": ".py",
   "mimetype": "text/x-python",
   "name": "python",
   "nbconvert_exporter": "python",
   "pygments_lexer": "ipython3",
   "version": "3.7.6"
  }
 },
 "nbformat": 4,
 "nbformat_minor": 4
}
