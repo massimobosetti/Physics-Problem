{
 "cells": [
  {
   "cell_type": "markdown",
   "metadata": {
    "slideshow": {
     "slide_type": "slide"
    }
   },
   "source": [
    "# Problemi sulla crisi della fisica classica"
   ]
  },
  {
   "cell_type": "code",
   "execution_count": 2,
   "metadata": {
    "slideshow": {
     "slide_type": "fragment"
    }
   },
   "outputs": [],
   "source": [
    "from decimal import Decimal\n",
    "\n",
    "#Dati utili\n",
    "e=1.602*10**-19 #carica dell'elettrone e del protone\n",
    "m_e=9.109*10**-31 #massa dell'elettrone"
   ]
  },
  {
   "cell_type": "markdown",
   "metadata": {
    "slideshow": {
     "slide_type": "slide"
    }
   },
   "source": [
    "# prob 6\n",
    "## Testo \n",
    "Cacola la velocità di un elettrone che si muove su un arco di circonferenza di $r=0,10 m$ perpendicolare a un campo magnetico di intensità $B= 1,0\\cdot10^{-4}\\, T$\n",
    "<img src=\"https://upload.wikimedia.org/wikipedia/commons/thumb/0/06/FuerzaCentripetaLorentzN.svg/543px-FuerzaCentripetaLorentzN.svg.png\">\n"
   ]
  },
  {
   "cell_type": "markdown",
   "metadata": {
    "slideshow": {
     "slide_type": "subslide"
    }
   },
   "source": [
    "## Soluzione\n",
    "Definiamo $e$ carica dell'elettrone ed $m_e$ la massa dell'elettrone\n",
    "Basta ricordare che $\\vec F_m = e\\vec v \\times \\vec B$ e in questo caso visto che $\\vec v$ è perpendicolare a $\\vec B$ allora abbiamo che $F_m=e vB$.\n",
    "La forza magnetica è equivalente ad una forza centripeta cioè $F_c=m_e \\frac{v^2}{r}$.\n",
    "Allora abbiamo\n",
    "$$e vB=m_e \\frac{v^2}{r}.$$\n",
    "Sotituendo otteniamo che \n",
    "$$\n",
    "v=\\frac{e B}{m_e r}\n",
    "$$\n"
   ]
  },
  {
   "cell_type": "code",
   "execution_count": 3,
   "metadata": {
    "slideshow": {
     "slide_type": "fragment"
    }
   },
   "outputs": [
    {
     "name": "stdout",
     "output_type": "stream",
     "text": [
      "la velocità è di  1.759E+08 m/s\n"
     ]
    }
   ],
   "source": [
    "B = 1*10**-4\n",
    "r = 0.10\n",
    "v = (e*B)/(m_e*r)\n",
    "print('la velocità è di ', f\"{v:.3E}\", 'm/s')"
   ]
  },
  {
   "cell_type": "code",
   "execution_count": null,
   "metadata": {},
   "outputs": [],
   "source": []
  }
 ],
 "metadata": {
  "celltoolbar": "Slideshow",
  "kernelspec": {
   "display_name": "Python 3",
   "language": "python",
   "name": "python3"
  },
  "language_info": {
   "codemirror_mode": {
    "name": "ipython",
    "version": 3
   },
   "file_extension": ".py",
   "mimetype": "text/x-python",
   "name": "python",
   "nbconvert_exporter": "python",
   "pygments_lexer": "ipython3",
   "version": "3.7.6"
  }
 },
 "nbformat": 4,
 "nbformat_minor": 4
}
